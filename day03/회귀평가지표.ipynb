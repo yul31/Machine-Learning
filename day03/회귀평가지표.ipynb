{
 "cells": [
  {
   "cell_type": "code",
   "execution_count": 4,
   "id": "2e9dc563",
   "metadata": {},
   "outputs": [],
   "source": [
    "from sklearn.model_selection import train_test_split\n",
    "from sklearn.linear_model import LinearRegression\n",
    "from sklearn.metrics import r2_score\n",
    "from sklearn.metrics import mean_absolute_error\n",
    "from sklearn.metrics import mean_squared_error\n",
    "from sklearn.metrics import mean_squared_log_error\n",
    "from sklearn.metrics import make_scorer"
   ]
  },
  {
   "cell_type": "code",
   "execution_count": 6,
   "id": "50d37449",
   "metadata": {},
   "outputs": [],
   "source": [
    "x_data = [\n",
    "    [2,1],\n",
    "    [3,2],\n",
    "    [3,4],\n",
    "    [5,5],\n",
    "    [7,5],\n",
    "    [2,5],\n",
    "    [8,9],\n",
    "    [9,10],\n",
    "    [6,12],\n",
    "    [9,2],\n",
    "    [6,10],\n",
    "    [2,4]\n",
    "]\n",
    "\n",
    "y_data = [3,5,7,10,12,7,13,13,12,13,12,6]"
   ]
  },
  {
   "cell_type": "code",
   "execution_count": 7,
   "id": "b76a781b",
   "metadata": {},
   "outputs": [],
   "source": [
    "x_train, x_test, y_train, y_test = train_test_split(x_data, y_data,\n",
    "                                                    test_size=0.3, random_state=0)"
   ]
  },
  {
   "cell_type": "code",
   "execution_count": 8,
   "id": "06218b80",
   "metadata": {},
   "outputs": [],
   "source": [
    "model = LinearRegression()"
   ]
  },
  {
   "cell_type": "code",
   "execution_count": 9,
   "id": "c46a951b",
   "metadata": {},
   "outputs": [
    {
     "data": {
      "text/plain": [
       "LinearRegression()"
      ]
     },
     "execution_count": 9,
     "metadata": {},
     "output_type": "execute_result"
    }
   ],
   "source": [
    "model.fit(x_train, y_train)"
   ]
  },
  {
   "cell_type": "markdown",
   "id": "c895f2d7",
   "metadata": {},
   "source": [
    "### r2 score\n",
    "- (Coefficient of Determination): 결정계수 = R squared\n",
    "- 정확도 측정 지표, 0~1의 수(1에 가까울수록 좋음)\n",
    "- 성능과 비례"
   ]
  },
  {
   "cell_type": "code",
   "execution_count": 10,
   "id": "d6555337",
   "metadata": {},
   "outputs": [
    {
     "data": {
      "text/plain": [
       "0.9356057047590941"
      ]
     },
     "execution_count": 10,
     "metadata": {},
     "output_type": "execute_result"
    }
   ],
   "source": [
    "model.score(x_test, y_test) #r2"
   ]
  },
  {
   "cell_type": "code",
   "execution_count": 11,
   "id": "66c1ac46",
   "metadata": {},
   "outputs": [
    {
     "data": {
      "text/plain": [
       "0.9356057047590941"
      ]
     },
     "execution_count": 11,
     "metadata": {},
     "output_type": "execute_result"
    }
   ],
   "source": [
    "score = make_scorer(r2_score)\n",
    "score(model, x_test, y_test) #r2"
   ]
  },
  {
   "cell_type": "markdown",
   "id": "b5d93950",
   "metadata": {},
   "source": [
    "### MAE\n",
    "- (Mean Absolute Error): 평균 절대 오차\n",
    "- 모델의 (예측값-실제값)의 (절대값)의 평균\n",
    "- 성능과 반비례"
   ]
  },
  {
   "cell_type": "code",
   "execution_count": 12,
   "id": "3b52aac3",
   "metadata": {},
   "outputs": [
    {
     "data": {
      "text/plain": [
       "0.6021492393141756"
      ]
     },
     "execution_count": 12,
     "metadata": {},
     "output_type": "execute_result"
    }
   ],
   "source": [
    "score = make_scorer(mean_absolute_error)\n",
    "score(model, x_test, y_test)"
   ]
  },
  {
   "cell_type": "markdown",
   "id": "19f636ff",
   "metadata": {},
   "source": [
    "### MSE\n",
    "- (Mean Squared Error): 평균 제곱 오차\n",
    "- 모델의 (예측값 - 실제값)의 제곱의 평균\n",
    "- 성능과 반비례"
   ]
  },
  {
   "cell_type": "code",
   "execution_count": 13,
   "id": "e4d6ef00",
   "metadata": {},
   "outputs": [
    {
     "data": {
      "text/plain": [
       "0.4950311446644644"
      ]
     },
     "execution_count": 13,
     "metadata": {},
     "output_type": "execute_result"
    }
   ],
   "source": [
    "score = make_scorer(mean_squared_error)\n",
    "score(model, x_test, y_test)"
   ]
  },
  {
   "cell_type": "markdown",
   "id": "ed5aa48e",
   "metadata": {},
   "source": [
    "### RMSE\n",
    "- (Root Mean Squared Error): 평균 제곱근 오차\n",
    "- MSE 값에 루트를 씌운 값\n",
    "- 성능과 반비례"
   ]
  },
  {
   "cell_type": "code",
   "execution_count": 14,
   "id": "d89d1632",
   "metadata": {},
   "outputs": [],
   "source": [
    "import numpy as np"
   ]
  },
  {
   "cell_type": "code",
   "execution_count": 15,
   "id": "a7b22be2",
   "metadata": {},
   "outputs": [],
   "source": [
    "pred = model.predict(x_test)"
   ]
  },
  {
   "cell_type": "code",
   "execution_count": 16,
   "id": "82dbef02",
   "metadata": {},
   "outputs": [],
   "source": [
    "def rmse(y_true, y_predict):\n",
    "    return np.sqrt(mean_squared_error(y_true, y_predict))"
   ]
  },
  {
   "cell_type": "code",
   "execution_count": 17,
   "id": "2394cc4c",
   "metadata": {},
   "outputs": [
    {
     "data": {
      "text/plain": [
       "0.7035844971746211"
      ]
     },
     "execution_count": 17,
     "metadata": {},
     "output_type": "execute_result"
    }
   ],
   "source": [
    "rmse(y_test, pred)"
   ]
  },
  {
   "cell_type": "code",
   "execution_count": 18,
   "id": "bb121900",
   "metadata": {},
   "outputs": [
    {
     "data": {
      "text/plain": [
       "0.4950311446644644"
      ]
     },
     "execution_count": 18,
     "metadata": {},
     "output_type": "execute_result"
    }
   ],
   "source": [
    "#MSE에 루트값 씌워서 구하기\n",
    "#위의 MSE값 가져오기\n",
    "score = make_scorer(mean_squared_error)\n",
    "score(model, x_test, y_test)"
   ]
  },
  {
   "cell_type": "code",
   "execution_count": 21,
   "id": "8df66ed6",
   "metadata": {},
   "outputs": [
    {
     "name": "stdout",
     "output_type": "stream",
     "text": [
      "rmse : 0.7035844971746211\n"
     ]
    }
   ],
   "source": [
    "print('rmse :',score(model, x_test, y_test)**0.5)\n",
    "#루트 = 1/2제곱(승) = 0.5제곱"
   ]
  },
  {
   "cell_type": "code",
   "execution_count": null,
   "id": "f3308aab",
   "metadata": {},
   "outputs": [],
   "source": []
  }
 ],
 "metadata": {
  "kernelspec": {
   "display_name": "Python 3 (ipykernel)",
   "language": "python",
   "name": "python3"
  },
  "language_info": {
   "codemirror_mode": {
    "name": "ipython",
    "version": 3
   },
   "file_extension": ".py",
   "mimetype": "text/x-python",
   "name": "python",
   "nbconvert_exporter": "python",
   "pygments_lexer": "ipython3",
   "version": "3.9.12"
  }
 },
 "nbformat": 4,
 "nbformat_minor": 5
}

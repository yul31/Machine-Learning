{
 "cells": [
  {
   "cell_type": "code",
   "execution_count": 1,
   "id": "7b9fbcae",
   "metadata": {},
   "outputs": [],
   "source": [
    "import mglearn\n",
    "from sklearn.linear_model import LinearRegression\n",
    "from sklearn.model_selection import train_test_split"
   ]
  },
  {
   "cell_type": "code",
   "execution_count": 2,
   "id": "38c39581",
   "metadata": {},
   "outputs": [],
   "source": [
    "x, y = mglearn.datasets.make_wave(n_samples=60)"
   ]
  },
  {
   "cell_type": "code",
   "execution_count": 3,
   "id": "bc3fa351",
   "metadata": {},
   "outputs": [],
   "source": [
    "x_train, x_test, y_train, y_test = train_test_split(x, y, random_state=0)"
   ]
  },
  {
   "cell_type": "code",
   "execution_count": 4,
   "id": "9d3341df",
   "metadata": {},
   "outputs": [],
   "source": [
    "lr = LinearRegression()"
   ]
  },
  {
   "cell_type": "code",
   "execution_count": 5,
   "id": "eb9c9691",
   "metadata": {},
   "outputs": [
    {
     "data": {
      "text/plain": [
       "LinearRegression()"
      ]
     },
     "execution_count": 5,
     "metadata": {},
     "output_type": "execute_result"
    }
   ],
   "source": [
    "lr.fit(x_train, y_train)"
   ]
  },
  {
   "cell_type": "code",
   "execution_count": 6,
   "id": "e5a1759d",
   "metadata": {},
   "outputs": [
    {
     "data": {
      "text/plain": [
       "array([0.44153666])"
      ]
     },
     "execution_count": 6,
     "metadata": {},
     "output_type": "execute_result"
    }
   ],
   "source": [
    "lr.coef_ #가중치(w)"
   ]
  },
  {
   "cell_type": "code",
   "execution_count": 7,
   "id": "6e63d453",
   "metadata": {},
   "outputs": [
    {
     "data": {
      "text/plain": [
       "-0.01711124414733381"
      ]
     },
     "execution_count": 7,
     "metadata": {},
     "output_type": "execute_result"
    }
   ],
   "source": [
    "lr.intercept_ #편향(b)"
   ]
  },
  {
   "cell_type": "markdown",
   "id": "490e8aa7",
   "metadata": {},
   "source": [
    "### y = 0.4415x - 0.01711"
   ]
  },
  {
   "cell_type": "code",
   "execution_count": 9,
   "id": "44ee2df0",
   "metadata": {},
   "outputs": [],
   "source": [
    "train = lr.score(x_train, y_train)\n",
    "test = lr.score(x_test, y_test) #r2"
   ]
  },
  {
   "cell_type": "code",
   "execution_count": 10,
   "id": "18badea3",
   "metadata": {},
   "outputs": [
    {
     "name": "stdout",
     "output_type": "stream",
     "text": [
      "훈련 데이터 점수 :  0.6592061059587275\n",
      "테스트 데이터 점수 :  0.6932519118518163\n"
     ]
    }
   ],
   "source": [
    "print('훈련 데이터 점수 : ', train)\n",
    "print('테스트 데이터 점수 : ', test)"
   ]
  },
  {
   "cell_type": "markdown",
   "id": "4ab165c0",
   "metadata": {},
   "source": [
    "### 보스턴 주택 가격 - 선형회귀"
   ]
  },
  {
   "cell_type": "code",
   "execution_count": 11,
   "id": "6f94b977",
   "metadata": {},
   "outputs": [],
   "source": [
    "import warnings\n",
    "warnings.filterwarnings('ignore', category=FutureWarning)"
   ]
  },
  {
   "cell_type": "code",
   "execution_count": 12,
   "id": "bba5b4b7",
   "metadata": {},
   "outputs": [],
   "source": [
    "x, y = mglearn.datasets.load_extended_boston()"
   ]
  },
  {
   "cell_type": "code",
   "execution_count": 13,
   "id": "3871d235",
   "metadata": {},
   "outputs": [],
   "source": [
    "x_train, x_test, y_train, y_test = train_test_split(x, y, test_size=0.2,\n",
    "                                                    random_state=0)"
   ]
  },
  {
   "cell_type": "code",
   "execution_count": 14,
   "id": "183fef54",
   "metadata": {},
   "outputs": [],
   "source": [
    "lr = LinearRegression().fit(x_train, y_train) #모델 생성, 학습"
   ]
  },
  {
   "cell_type": "code",
   "execution_count": 15,
   "id": "80eb8675",
   "metadata": {},
   "outputs": [],
   "source": [
    "train = lr.score(x_train, y_train)\n",
    "test = lr.score(x_test, y_test)"
   ]
  },
  {
   "cell_type": "code",
   "execution_count": 16,
   "id": "05fb9897",
   "metadata": {},
   "outputs": [
    {
     "name": "stdout",
     "output_type": "stream",
     "text": [
      "훈련 세트 점수 :  0.9490240966612832\n",
      "테스트 세트 점수 :  0.615885858407885\n"
     ]
    }
   ],
   "source": [
    "print('훈련 세트 점수 : ', train) #훈련세트에 과대적합\n",
    "print('테스트 세트 점수 : ', test)"
   ]
  },
  {
   "cell_type": "markdown",
   "id": "48736436",
   "metadata": {},
   "source": [
    "### 릿지 회귀"
   ]
  },
  {
   "cell_type": "code",
   "execution_count": 17,
   "id": "02cf3dee",
   "metadata": {},
   "outputs": [],
   "source": [
    "from sklearn.linear_model import Ridge"
   ]
  },
  {
   "cell_type": "code",
   "execution_count": 18,
   "id": "15a9920c",
   "metadata": {},
   "outputs": [],
   "source": [
    "ridge = Ridge().fit(x_train, y_train) #모델 생성, 학습"
   ]
  },
  {
   "cell_type": "code",
   "execution_count": 19,
   "id": "34dbbe9e",
   "metadata": {},
   "outputs": [],
   "source": [
    "train = ridge.score(x_train, y_train)\n",
    "test = ridge.score(x_test, y_test)"
   ]
  },
  {
   "cell_type": "code",
   "execution_count": 20,
   "id": "ba8479cc",
   "metadata": {},
   "outputs": [
    {
     "name": "stdout",
     "output_type": "stream",
     "text": [
      "훈련 세트 점수 :  0.8858089292103583\n",
      "테스트 세트 점수 :  0.7214499108060967\n"
     ]
    }
   ],
   "source": [
    "print('훈련 세트 점수 : ', train) #릿지 규제를 주고 난 후 설명력이 높아짐\n",
    "print('테스트 세트 점수 : ', test)"
   ]
  },
  {
   "cell_type": "code",
   "execution_count": 21,
   "id": "a809ea30",
   "metadata": {},
   "outputs": [],
   "source": [
    "#alpha값은 정해져있지 않음, 크고 작은 값을 대입해서 적합한 값을 찾기\n",
    "#alpha값이 큰 조건\n",
    "ridge10 = Ridge(alpha=10).fit(x_train, y_train)"
   ]
  },
  {
   "cell_type": "code",
   "execution_count": 22,
   "id": "f97ced82",
   "metadata": {},
   "outputs": [],
   "source": [
    "train10 = ridge10.score(x_train, y_train)\n",
    "test10 = ridge10.score(x_test, y_test)"
   ]
  },
  {
   "cell_type": "code",
   "execution_count": 23,
   "id": "47ac521a",
   "metadata": {},
   "outputs": [
    {
     "name": "stdout",
     "output_type": "stream",
     "text": [
      "훈련 세트 점수 :  0.7934484752213662\n",
      "테스트 세트 점수 :  0.5886807784434768\n"
     ]
    }
   ],
   "source": [
    "print('훈련 세트 점수 : ', train10) \n",
    "print('테스트 세트 점수 : ', test10)\n",
    "#규제를 크게 줌-> 과대적합 감소 -> 오차 증가(정확도 감소, 설명력 떨어짐)"
   ]
  },
  {
   "cell_type": "code",
   "execution_count": 24,
   "id": "418a01c8",
   "metadata": {},
   "outputs": [],
   "source": [
    "#alpha값이 작은 조건\n",
    "ridge01 = Ridge(alpha=0.1).fit(x_train, y_train)"
   ]
  },
  {
   "cell_type": "code",
   "execution_count": 25,
   "id": "2c453bd9",
   "metadata": {},
   "outputs": [],
   "source": [
    "train01 = ridge01.score(x_train, y_train)\n",
    "test01 = ridge01.score(x_test, y_test)"
   ]
  },
  {
   "cell_type": "code",
   "execution_count": 26,
   "id": "25a76a7b",
   "metadata": {},
   "outputs": [
    {
     "name": "stdout",
     "output_type": "stream",
     "text": [
      "훈련 세트 점수 :  0.9261926604874957\n",
      "테스트 세트 점수 :  0.7463824108919292\n"
     ]
    }
   ],
   "source": [
    "print('훈련 세트 점수 : ', train01) \n",
    "print('테스트 세트 점수 : ', test01)\n",
    "#규제를 작게 줌 -> 과대적합 증가 -> 오차 감소(정확도 증가, 설명력 높아짐)"
   ]
  },
  {
   "cell_type": "markdown",
   "id": "cc2248c7",
   "metadata": {},
   "source": [
    "### 랏쏘"
   ]
  },
  {
   "cell_type": "code",
   "execution_count": 27,
   "id": "31355b77",
   "metadata": {},
   "outputs": [],
   "source": [
    "import numpy as np"
   ]
  },
  {
   "cell_type": "code",
   "execution_count": 28,
   "id": "b7b3dcc0",
   "metadata": {},
   "outputs": [],
   "source": [
    "from sklearn.linear_model import Lasso"
   ]
  },
  {
   "cell_type": "code",
   "execution_count": 29,
   "id": "d04655fc",
   "metadata": {},
   "outputs": [],
   "source": [
    "lasso = Lasso().fit(x_train, y_train)"
   ]
  },
  {
   "cell_type": "code",
   "execution_count": 30,
   "id": "c231fc83",
   "metadata": {},
   "outputs": [],
   "source": [
    "train = lasso.score(x_train, y_train)\n",
    "test = lasso.score(x_test, y_test)"
   ]
  },
  {
   "cell_type": "code",
   "execution_count": 31,
   "id": "6be0445b",
   "metadata": {},
   "outputs": [
    {
     "name": "stdout",
     "output_type": "stream",
     "text": [
      "훈련 세트 점수 :  0.30173392764195583\n",
      "테스트 세트 점수 :  0.18559880937915907\n"
     ]
    }
   ],
   "source": [
    "print('훈련 세트 점수 : ', train)\n",
    "print('테스트 세트 점수 : ', test)"
   ]
  },
  {
   "cell_type": "code",
   "execution_count": 32,
   "id": "e1dd44a4",
   "metadata": {},
   "outputs": [
    {
     "name": "stdout",
     "output_type": "stream",
     "text": [
      "사용한 특성의 개수 :  4\n"
     ]
    }
   ],
   "source": [
    "print('사용한 특성의 개수 : ', np.sum(lasso.coef_ != 0))\n",
    "#w에 동일한 값 넣음 -> ex. w=0.5넣으면 0.5x(계수 0.5인 것) 는 0이 됨\n",
    "#->특정 계수는 0이 되므로 사용한 특성의 개수 알아보기"
   ]
  },
  {
   "cell_type": "code",
   "execution_count": 33,
   "id": "ee5f29b1",
   "metadata": {},
   "outputs": [],
   "source": [
    "#alpha값에 따른 변화\n",
    "lasso001 = Lasso(alpha=0.01, max_iter=10000).fit(x_train, y_train) #max_iter: 너무 크지도 작지도 않은 값으로 주면 크게 관계없음"
   ]
  },
  {
   "cell_type": "code",
   "execution_count": 34,
   "id": "b3bbdbbd",
   "metadata": {},
   "outputs": [],
   "source": [
    "train = lasso001.score(x_train, y_train)\n",
    "test = lasso001.score(x_test, y_test)"
   ]
  },
  {
   "cell_type": "code",
   "execution_count": 35,
   "id": "5303a5f0",
   "metadata": {},
   "outputs": [
    {
     "name": "stdout",
     "output_type": "stream",
     "text": [
      "훈련 세트 점수 :  0.8940116521466668\n",
      "테스트 세트 점수 :  0.7360953366341125\n"
     ]
    }
   ],
   "source": [
    "print('훈련 세트 점수 : ', train)\n",
    "print('테스트 세트 점수 : ', test)\n",
    "#alpha값 0.01로 설정 -> 설명력 높아짐"
   ]
  },
  {
   "cell_type": "code",
   "execution_count": 36,
   "id": "d5e8f625",
   "metadata": {},
   "outputs": [
    {
     "name": "stdout",
     "output_type": "stream",
     "text": [
      "사용한 특성의 개수 :  34\n"
     ]
    }
   ],
   "source": [
    "print('사용한 특성의 개수 : ', np.sum(lasso001.coef_ != 0))"
   ]
  },
  {
   "cell_type": "code",
   "execution_count": 38,
   "id": "5162e983",
   "metadata": {},
   "outputs": [
    {
     "name": "stderr",
     "output_type": "stream",
     "text": [
      "C:\\Users\\user\\anaconda3\\lib\\site-packages\\sklearn\\linear_model\\_coordinate_descent.py:647: ConvergenceWarning: Objective did not converge. You might want to increase the number of iterations, check the scale of the features or consider increasing regularisation. Duality gap: 3.481e+00, tolerance: 3.440e+00\n",
      "  model = cd_fast.enet_coordinate_descent(\n"
     ]
    }
   ],
   "source": [
    "#alpha값 아주 작게 준 조건\n",
    "lasso00001 = Lasso(alpha=0.0001, max_iter=50000).fit(x_train, y_train)"
   ]
  },
  {
   "cell_type": "code",
   "execution_count": 39,
   "id": "8bffb302",
   "metadata": {},
   "outputs": [],
   "source": [
    "train = lasso00001.score(x_train, y_train)\n",
    "test = lasso00001.score(x_test, y_test)"
   ]
  },
  {
   "cell_type": "code",
   "execution_count": 40,
   "id": "12baed6f",
   "metadata": {},
   "outputs": [
    {
     "name": "stdout",
     "output_type": "stream",
     "text": [
      "훈련 세트 점수 :  0.9478035785798402\n",
      "테스트 세트 점수 :  0.6453342633073322\n"
     ]
    }
   ],
   "source": [
    "print('훈련 세트 점수 : ', train)\n",
    "print('테스트 세트 점수 : ', test)"
   ]
  },
  {
   "cell_type": "code",
   "execution_count": 41,
   "id": "3bdf04d5",
   "metadata": {},
   "outputs": [
    {
     "name": "stdout",
     "output_type": "stream",
     "text": [
      "사용한 특성의 개수 :  96\n"
     ]
    }
   ],
   "source": [
    "print('사용한 특성의 개수 : ', np.sum(lasso00001.coef_ != 0))"
   ]
  },
  {
   "cell_type": "code",
   "execution_count": null,
   "id": "ac8970e7",
   "metadata": {},
   "outputs": [],
   "source": []
  }
 ],
 "metadata": {
  "kernelspec": {
   "display_name": "Python 3 (ipykernel)",
   "language": "python",
   "name": "python3"
  },
  "language_info": {
   "codemirror_mode": {
    "name": "ipython",
    "version": 3
   },
   "file_extension": ".py",
   "mimetype": "text/x-python",
   "name": "python",
   "nbconvert_exporter": "python",
   "pygments_lexer": "ipython3",
   "version": "3.9.12"
  }
 },
 "nbformat": 4,
 "nbformat_minor": 5
}

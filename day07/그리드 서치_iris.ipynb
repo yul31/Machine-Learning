{
 "cells": [
  {
   "cell_type": "markdown",
   "id": "a66f1f2f",
   "metadata": {},
   "source": [
    "### 1. iris 데이터를 활용하여 그리드서치 적용\n",
    "- 그리드서치는 교차검증을 동시에 수행"
   ]
  },
  {
   "cell_type": "code",
   "execution_count": 3,
   "id": "dd1da46e",
   "metadata": {},
   "outputs": [],
   "source": [
    "from sklearn.datasets import load_iris\n",
    "from sklearn.neighbors import KNeighborsClassifier\n",
    "from sklearn.tree import DecisionTreeClassifier\n",
    "from sklearn.model_selection import train_test_split\n",
    "from sklearn.model_selection import GridSearchCV"
   ]
  },
  {
   "cell_type": "code",
   "execution_count": 4,
   "id": "3bae76b7",
   "metadata": {},
   "outputs": [],
   "source": [
    "iris = load_iris()"
   ]
  },
  {
   "cell_type": "code",
   "execution_count": 51,
   "id": "e4b75e8f",
   "metadata": {},
   "outputs": [],
   "source": [
    "x_train, x_test, y_train, y_test = train_test_split(iris.data, iris.target, test_size=0.3, random_state=0)"
   ]
  },
  {
   "cell_type": "code",
   "execution_count": 6,
   "id": "99b36f76",
   "metadata": {},
   "outputs": [
    {
     "data": {
      "text/plain": [
       "(105, 4)"
      ]
     },
     "execution_count": 6,
     "metadata": {},
     "output_type": "execute_result"
    }
   ],
   "source": [
    "x_train.shape"
   ]
  },
  {
   "cell_type": "code",
   "execution_count": 7,
   "id": "ee75f826",
   "metadata": {},
   "outputs": [
    {
     "data": {
      "text/plain": [
       "(105,)"
      ]
     },
     "execution_count": 7,
     "metadata": {},
     "output_type": "execute_result"
    }
   ],
   "source": [
    "y_train.shape"
   ]
  },
  {
   "cell_type": "code",
   "execution_count": 8,
   "id": "26099a60",
   "metadata": {},
   "outputs": [
    {
     "data": {
      "text/plain": [
       "(45, 4)"
      ]
     },
     "execution_count": 8,
     "metadata": {},
     "output_type": "execute_result"
    }
   ],
   "source": [
    "x_test.shape"
   ]
  },
  {
   "cell_type": "code",
   "execution_count": 9,
   "id": "53894f76",
   "metadata": {},
   "outputs": [
    {
     "data": {
      "text/plain": [
       "(45,)"
      ]
     },
     "execution_count": 9,
     "metadata": {},
     "output_type": "execute_result"
    }
   ],
   "source": [
    "y_test.shape"
   ]
  },
  {
   "cell_type": "markdown",
   "id": "2d50260a",
   "metadata": {},
   "source": [
    "### KNN 그리드서치 적용"
   ]
  },
  {
   "cell_type": "code",
   "execution_count": 11,
   "id": "9f27affa",
   "metadata": {},
   "outputs": [],
   "source": [
    "param_knn = {'n_neighbors': range(1,10)}"
   ]
  },
  {
   "cell_type": "code",
   "execution_count": 12,
   "id": "8ef0f472",
   "metadata": {},
   "outputs": [],
   "source": [
    "knn = GridSearchCV(KNeighborsClassifier(), #모델\n",
    "                   param_knn,              #파라미터 범위\n",
    "                   cv=10)                  #교차검증 수"
   ]
  },
  {
   "cell_type": "code",
   "execution_count": 13,
   "id": "6cd11e93",
   "metadata": {},
   "outputs": [
    {
     "data": {
      "text/plain": [
       "GridSearchCV(cv=10, estimator=KNeighborsClassifier(),\n",
       "             param_grid={'n_neighbors': range(1, 10)})"
      ]
     },
     "execution_count": 13,
     "metadata": {},
     "output_type": "execute_result"
    }
   ],
   "source": [
    "knn.fit(x_train, y_train)"
   ]
  },
  {
   "cell_type": "code",
   "execution_count": 14,
   "id": "85ac4fe9",
   "metadata": {},
   "outputs": [
    {
     "name": "stdout",
     "output_type": "stream",
     "text": [
      "최적의 파라미터 : {'n_neighbors': 6}\n"
     ]
    }
   ],
   "source": [
    "print('최적의 파라미터 :', knn.best_params_)"
   ]
  },
  {
   "cell_type": "code",
   "execution_count": 15,
   "id": "a599c7e8",
   "metadata": {},
   "outputs": [
    {
     "name": "stdout",
     "output_type": "stream",
     "text": [
      "최고의 교차검증 점수 : 0.9609090909090909\n"
     ]
    }
   ],
   "source": [
    "print('최고의 교차검증 점수 :', knn.best_score_) #학습 데이터 스코어"
   ]
  },
  {
   "cell_type": "code",
   "execution_count": 16,
   "id": "70930ad5",
   "metadata": {},
   "outputs": [
    {
     "name": "stdout",
     "output_type": "stream",
     "text": [
      "최고 성능 모델 : KNeighborsClassifier(n_neighbors=6)\n"
     ]
    }
   ],
   "source": [
    "print('최고 성능 모델 :', knn.best_estimator_)"
   ]
  },
  {
   "cell_type": "code",
   "execution_count": 17,
   "id": "ac9c4cfe",
   "metadata": {},
   "outputs": [
    {
     "data": {
      "text/plain": [
       "array([2, 1, 0, 2, 0, 2, 0, 1, 1, 1, 2, 1, 1, 1, 1, 0, 1, 1, 0, 0, 2, 1,\n",
       "       0, 0, 2, 0, 0, 1, 1, 0, 2, 1, 0, 2, 2, 1, 0, 2, 1, 1, 2, 0, 2, 0,\n",
       "       0])"
      ]
     },
     "execution_count": 17,
     "metadata": {},
     "output_type": "execute_result"
    }
   ],
   "source": [
    "knn.predict(x_test)"
   ]
  },
  {
   "cell_type": "code",
   "execution_count": 18,
   "id": "ab129f18",
   "metadata": {},
   "outputs": [
    {
     "data": {
      "text/plain": [
       "0.9777777777777777"
      ]
     },
     "execution_count": 18,
     "metadata": {},
     "output_type": "execute_result"
    }
   ],
   "source": [
    "knn.score(x_test, y_test) #테스트 데이터 스코어=학습 데이터 스코어와 비슷"
   ]
  },
  {
   "cell_type": "markdown",
   "id": "720e5e59",
   "metadata": {},
   "source": [
    "### Decision Tree"
   ]
  },
  {
   "cell_type": "code",
   "execution_count": 59,
   "id": "7702018e",
   "metadata": {},
   "outputs": [],
   "source": [
    "param_df = {'max_depth':range(1,10),\n",
    "            'max_leaf_nodes':range(1,10),\n",
    "            'min_samples_leaf':range(1,10)}"
   ]
  },
  {
   "cell_type": "code",
   "execution_count": 60,
   "id": "2feaf0f9",
   "metadata": {},
   "outputs": [],
   "source": [
    "dt = GridSearchCV(DecisionTreeClassifier(),\n",
    "                  param_df,\n",
    "                  cv=5)"
   ]
  },
  {
   "cell_type": "code",
   "execution_count": 61,
   "id": "4ab08fb1",
   "metadata": {
    "scrolled": false
   },
   "outputs": [
    {
     "name": "stderr",
     "output_type": "stream",
     "text": [
      "C:\\Users\\user\\anaconda3\\lib\\site-packages\\sklearn\\model_selection\\_validation.py:372: FitFailedWarning: \n",
      "405 fits failed out of a total of 3645.\n",
      "The score on these train-test partitions for these parameters will be set to nan.\n",
      "If these failures are not expected, you can try to debug them by setting error_score='raise'.\n",
      "\n",
      "Below are more details about the failures:\n",
      "--------------------------------------------------------------------------------\n",
      "405 fits failed with the following error:\n",
      "Traceback (most recent call last):\n",
      "  File \"C:\\Users\\user\\anaconda3\\lib\\site-packages\\sklearn\\model_selection\\_validation.py\", line 680, in _fit_and_score\n",
      "    estimator.fit(X_train, y_train, **fit_params)\n",
      "  File \"C:\\Users\\user\\anaconda3\\lib\\site-packages\\sklearn\\tree\\_classes.py\", line 937, in fit\n",
      "    super().fit(\n",
      "  File \"C:\\Users\\user\\anaconda3\\lib\\site-packages\\sklearn\\tree\\_classes.py\", line 314, in fit\n",
      "    raise ValueError(\n",
      "ValueError: max_leaf_nodes 1 must be either None or larger than 1\n",
      "\n",
      "  warnings.warn(some_fits_failed_message, FitFailedWarning)\n",
      "C:\\Users\\user\\anaconda3\\lib\\site-packages\\sklearn\\model_selection\\_search.py:969: UserWarning: One or more of the test scores are non-finite: [       nan        nan        nan        nan        nan        nan\n",
      "        nan        nan        nan 0.6952381  0.6952381  0.6952381\n",
      " 0.6952381  0.6952381  0.6952381  0.6952381  0.6952381  0.6952381\n",
      " 0.6952381  0.6952381  0.6952381  0.6952381  0.6952381  0.6952381\n",
      " 0.6952381  0.6952381  0.6952381  0.6952381  0.6952381  0.6952381\n",
      " 0.6952381  0.6952381  0.6952381  0.6952381  0.6952381  0.6952381\n",
      " 0.6952381  0.6952381  0.6952381  0.6952381  0.6952381  0.6952381\n",
      " 0.6952381  0.6952381  0.6952381  0.6952381  0.6952381  0.6952381\n",
      " 0.6952381  0.6952381  0.6952381  0.6952381  0.6952381  0.6952381\n",
      " 0.6952381  0.6952381  0.6952381  0.6952381  0.6952381  0.6952381\n",
      " 0.6952381  0.6952381  0.6952381  0.6952381  0.6952381  0.6952381\n",
      " 0.6952381  0.6952381  0.6952381  0.6952381  0.6952381  0.6952381\n",
      " 0.6952381  0.6952381  0.6952381  0.6952381  0.6952381  0.6952381\n",
      " 0.6952381  0.6952381  0.6952381         nan        nan        nan\n",
      "        nan        nan        nan        nan        nan        nan\n",
      " 0.6952381  0.6952381  0.6952381  0.6952381  0.6952381  0.6952381\n",
      " 0.6952381  0.6952381  0.6952381  0.93333333 0.93333333 0.93333333\n",
      " 0.93333333 0.93333333 0.93333333 0.93333333 0.93333333 0.93333333\n",
      " 0.93333333 0.93333333 0.93333333 0.93333333 0.93333333 0.93333333\n",
      " 0.93333333 0.93333333 0.93333333 0.93333333 0.93333333 0.93333333\n",
      " 0.93333333 0.93333333 0.93333333 0.93333333 0.93333333 0.93333333\n",
      " 0.93333333 0.93333333 0.93333333 0.93333333 0.93333333 0.93333333\n",
      " 0.93333333 0.93333333 0.93333333 0.93333333 0.93333333 0.93333333\n",
      " 0.93333333 0.93333333 0.93333333 0.93333333 0.93333333 0.93333333\n",
      " 0.93333333 0.93333333 0.93333333 0.93333333 0.93333333 0.93333333\n",
      " 0.93333333 0.93333333 0.93333333 0.93333333 0.93333333 0.93333333\n",
      " 0.93333333 0.93333333 0.93333333 0.93333333 0.93333333 0.93333333\n",
      "        nan        nan        nan        nan        nan        nan\n",
      "        nan        nan        nan 0.6952381  0.6952381  0.6952381\n",
      " 0.6952381  0.6952381  0.6952381  0.6952381  0.6952381  0.6952381\n",
      " 0.93333333 0.93333333 0.93333333 0.93333333 0.93333333 0.93333333\n",
      " 0.93333333 0.93333333 0.93333333 0.94285714 0.94285714 0.94285714\n",
      " 0.93333333 0.93333333 0.93333333 0.93333333 0.93333333 0.93333333\n",
      " 0.94285714 0.94285714 0.94285714 0.93333333 0.93333333 0.93333333\n",
      " 0.93333333 0.93333333 0.93333333 0.94285714 0.94285714 0.94285714\n",
      " 0.93333333 0.93333333 0.93333333 0.93333333 0.93333333 0.93333333\n",
      " 0.94285714 0.94285714 0.94285714 0.93333333 0.93333333 0.93333333\n",
      " 0.93333333 0.93333333 0.93333333 0.94285714 0.94285714 0.94285714\n",
      " 0.93333333 0.93333333 0.93333333 0.93333333 0.93333333 0.93333333\n",
      " 0.94285714 0.94285714 0.94285714 0.93333333 0.93333333 0.93333333\n",
      " 0.93333333 0.93333333 0.93333333        nan        nan        nan\n",
      "        nan        nan        nan        nan        nan        nan\n",
      " 0.6952381  0.6952381  0.6952381  0.6952381  0.6952381  0.6952381\n",
      " 0.6952381  0.6952381  0.6952381  0.93333333 0.93333333 0.93333333\n",
      " 0.93333333 0.93333333 0.93333333 0.93333333 0.93333333 0.93333333\n",
      " 0.94285714 0.94285714 0.94285714 0.93333333 0.93333333 0.93333333\n",
      " 0.93333333 0.93333333 0.93333333 0.95238095 0.96190476 0.94285714\n",
      " 0.93333333 0.93333333 0.93333333 0.93333333 0.93333333 0.93333333\n",
      " 0.93333333 0.94285714 0.94285714 0.93333333 0.93333333 0.93333333\n",
      " 0.93333333 0.93333333 0.93333333 0.93333333 0.94285714 0.94285714\n",
      " 0.93333333 0.93333333 0.93333333 0.93333333 0.93333333 0.93333333\n",
      " 0.93333333 0.96190476 0.94285714 0.93333333 0.93333333 0.93333333\n",
      " 0.93333333 0.93333333 0.93333333 0.95238095 0.94285714 0.94285714\n",
      " 0.93333333 0.93333333 0.93333333 0.93333333 0.93333333 0.93333333\n",
      "        nan        nan        nan        nan        nan        nan\n",
      "        nan        nan        nan 0.6952381  0.6952381  0.6952381\n",
      " 0.6952381  0.6952381  0.6952381  0.6952381  0.6952381  0.6952381\n",
      " 0.93333333 0.93333333 0.93333333 0.93333333 0.93333333 0.93333333\n",
      " 0.93333333 0.93333333 0.93333333 0.94285714 0.94285714 0.94285714\n",
      " 0.93333333 0.93333333 0.93333333 0.93333333 0.93333333 0.93333333\n",
      " 0.93333333 0.96190476 0.94285714 0.93333333 0.93333333 0.93333333\n",
      " 0.93333333 0.93333333 0.93333333 0.95238095 0.96190476 0.94285714\n",
      " 0.93333333 0.93333333 0.93333333 0.93333333 0.93333333 0.93333333\n",
      " 0.95238095 0.96190476 0.94285714 0.93333333 0.93333333 0.93333333\n",
      " 0.93333333 0.93333333 0.93333333 0.95238095 0.94285714 0.94285714\n",
      " 0.93333333 0.93333333 0.93333333 0.93333333 0.93333333 0.93333333\n",
      " 0.95238095 0.96190476 0.94285714 0.93333333 0.93333333 0.93333333\n",
      " 0.93333333 0.93333333 0.93333333        nan        nan        nan\n",
      "        nan        nan        nan        nan        nan        nan\n",
      " 0.6952381  0.6952381  0.6952381  0.6952381  0.6952381  0.6952381\n",
      " 0.6952381  0.6952381  0.6952381  0.93333333 0.93333333 0.93333333\n",
      " 0.93333333 0.93333333 0.93333333 0.93333333 0.93333333 0.93333333\n",
      " 0.94285714 0.94285714 0.94285714 0.93333333 0.93333333 0.93333333\n",
      " 0.93333333 0.93333333 0.93333333 0.93333333 0.94285714 0.94285714\n",
      " 0.93333333 0.93333333 0.93333333 0.93333333 0.93333333 0.93333333\n",
      " 0.93333333 0.94285714 0.94285714 0.93333333 0.93333333 0.93333333\n",
      " 0.93333333 0.93333333 0.93333333 0.93333333 0.94285714 0.94285714\n",
      " 0.93333333 0.93333333 0.93333333 0.93333333 0.93333333 0.93333333\n",
      " 0.93333333 0.96190476 0.94285714 0.93333333 0.93333333 0.93333333\n",
      " 0.93333333 0.93333333 0.93333333 0.95238095 0.94285714 0.94285714\n",
      " 0.93333333 0.93333333 0.93333333 0.93333333 0.93333333 0.93333333\n",
      "        nan        nan        nan        nan        nan        nan\n",
      "        nan        nan        nan 0.6952381  0.6952381  0.6952381\n",
      " 0.6952381  0.6952381  0.6952381  0.6952381  0.6952381  0.6952381\n",
      " 0.93333333 0.93333333 0.93333333 0.93333333 0.93333333 0.93333333\n",
      " 0.93333333 0.93333333 0.93333333 0.94285714 0.94285714 0.94285714\n",
      " 0.93333333 0.93333333 0.93333333 0.93333333 0.93333333 0.93333333\n",
      " 0.95238095 0.96190476 0.94285714 0.93333333 0.93333333 0.93333333\n",
      " 0.93333333 0.93333333 0.93333333 0.95238095 0.96190476 0.94285714\n",
      " 0.93333333 0.93333333 0.93333333 0.93333333 0.93333333 0.93333333\n",
      " 0.94285714 0.94285714 0.94285714 0.93333333 0.93333333 0.93333333\n",
      " 0.93333333 0.93333333 0.93333333 0.94285714 0.96190476 0.94285714\n",
      " 0.93333333 0.93333333 0.93333333 0.93333333 0.93333333 0.93333333\n",
      " 0.95238095 0.96190476 0.94285714 0.93333333 0.93333333 0.93333333\n",
      " 0.93333333 0.93333333 0.93333333        nan        nan        nan\n",
      "        nan        nan        nan        nan        nan        nan\n",
      " 0.6952381  0.6952381  0.6952381  0.6952381  0.6952381  0.6952381\n",
      " 0.6952381  0.6952381  0.6952381  0.93333333 0.93333333 0.93333333\n",
      " 0.93333333 0.93333333 0.93333333 0.93333333 0.93333333 0.93333333\n",
      " 0.94285714 0.94285714 0.94285714 0.93333333 0.93333333 0.93333333\n",
      " 0.93333333 0.93333333 0.93333333 0.95238095 0.96190476 0.94285714\n",
      " 0.93333333 0.93333333 0.93333333 0.93333333 0.93333333 0.93333333\n",
      " 0.93333333 0.96190476 0.94285714 0.93333333 0.93333333 0.93333333\n",
      " 0.93333333 0.93333333 0.93333333 0.95238095 0.96190476 0.94285714\n",
      " 0.93333333 0.93333333 0.93333333 0.93333333 0.93333333 0.93333333\n",
      " 0.95238095 0.96190476 0.94285714 0.93333333 0.93333333 0.93333333\n",
      " 0.93333333 0.93333333 0.93333333 0.94285714 0.94285714 0.94285714\n",
      " 0.93333333 0.93333333 0.93333333 0.93333333 0.93333333 0.93333333\n",
      "        nan        nan        nan        nan        nan        nan\n",
      "        nan        nan        nan 0.6952381  0.6952381  0.6952381\n",
      " 0.6952381  0.6952381  0.6952381  0.6952381  0.6952381  0.6952381\n",
      " 0.93333333 0.93333333 0.93333333 0.93333333 0.93333333 0.93333333\n",
      " 0.93333333 0.93333333 0.93333333 0.94285714 0.94285714 0.94285714\n",
      " 0.93333333 0.93333333 0.93333333 0.93333333 0.93333333 0.93333333\n",
      " 0.95238095 0.94285714 0.94285714 0.93333333 0.93333333 0.93333333\n",
      " 0.93333333 0.93333333 0.93333333 0.93333333 0.94285714 0.94285714\n",
      " 0.93333333 0.93333333 0.93333333 0.93333333 0.93333333 0.93333333\n",
      " 0.95238095 0.96190476 0.94285714 0.93333333 0.93333333 0.93333333\n",
      " 0.93333333 0.93333333 0.93333333 0.93333333 0.96190476 0.94285714\n",
      " 0.93333333 0.93333333 0.93333333 0.93333333 0.93333333 0.93333333\n",
      " 0.95238095 0.96190476 0.94285714 0.93333333 0.93333333 0.93333333\n",
      " 0.93333333 0.93333333 0.93333333]\n",
      "  warnings.warn(\n"
     ]
    },
    {
     "data": {
      "text/plain": [
       "GridSearchCV(cv=5, estimator=DecisionTreeClassifier(),\n",
       "             param_grid={'max_depth': range(1, 10),\n",
       "                         'max_leaf_nodes': range(1, 10),\n",
       "                         'min_samples_leaf': range(1, 10)})"
      ]
     },
     "execution_count": 61,
     "metadata": {},
     "output_type": "execute_result"
    }
   ],
   "source": [
    "dt.fit(x_train, y_train)"
   ]
  },
  {
   "cell_type": "code",
   "execution_count": 62,
   "id": "968ac2e8",
   "metadata": {},
   "outputs": [
    {
     "name": "stdout",
     "output_type": "stream",
     "text": [
      "최적의 파라미터 : {'max_depth': 4, 'max_leaf_nodes': 5, 'min_samples_leaf': 2}\n"
     ]
    }
   ],
   "source": [
    "print('최적의 파라미터 :', dt.best_params_)"
   ]
  },
  {
   "cell_type": "code",
   "execution_count": 63,
   "id": "525d44c4",
   "metadata": {},
   "outputs": [
    {
     "name": "stdout",
     "output_type": "stream",
     "text": [
      "최고의 교차검증 점수 : 0.9619047619047618\n"
     ]
    }
   ],
   "source": [
    "print('최고의 교차검증 점수 :', dt.best_score_) #학습 데이터 스코어"
   ]
  },
  {
   "cell_type": "code",
   "execution_count": 64,
   "id": "8113fbff",
   "metadata": {},
   "outputs": [
    {
     "name": "stdout",
     "output_type": "stream",
     "text": [
      "최고 성능 모델 : DecisionTreeClassifier(max_depth=4, max_leaf_nodes=5, min_samples_leaf=2)\n"
     ]
    }
   ],
   "source": [
    "print('최고 성능 모델 :', dt.best_estimator_)"
   ]
  },
  {
   "cell_type": "code",
   "execution_count": 66,
   "id": "7c00896b",
   "metadata": {},
   "outputs": [
    {
     "data": {
      "text/plain": [
       "array([2, 1, 0, 2, 0, 2, 0, 1, 1, 1, 2, 1, 1, 1, 1, 0, 1, 1, 0, 0, 2, 1,\n",
       "       0, 0, 2, 0, 0, 1, 1, 0, 2, 1, 0, 1, 2, 1, 0, 2, 1, 1, 2, 0, 2, 0,\n",
       "       0])"
      ]
     },
     "execution_count": 66,
     "metadata": {},
     "output_type": "execute_result"
    }
   ],
   "source": [
    "dt.predict(x_test)"
   ]
  },
  {
   "cell_type": "code",
   "execution_count": 67,
   "id": "95ae32b4",
   "metadata": {},
   "outputs": [
    {
     "data": {
      "text/plain": [
       "0.9555555555555556"
      ]
     },
     "execution_count": 67,
     "metadata": {},
     "output_type": "execute_result"
    }
   ],
   "source": [
    "dt.score(x_test, y_test) #테스트 데이터 스코어"
   ]
  },
  {
   "cell_type": "code",
   "execution_count": null,
   "id": "56abb49e",
   "metadata": {},
   "outputs": [],
   "source": []
  }
 ],
 "metadata": {
  "kernelspec": {
   "display_name": "Python 3 (ipykernel)",
   "language": "python",
   "name": "python3"
  },
  "language_info": {
   "codemirror_mode": {
    "name": "ipython",
    "version": 3
   },
   "file_extension": ".py",
   "mimetype": "text/x-python",
   "name": "python",
   "nbconvert_exporter": "python",
   "pygments_lexer": "ipython3",
   "version": "3.9.12"
  }
 },
 "nbformat": 4,
 "nbformat_minor": 5
}

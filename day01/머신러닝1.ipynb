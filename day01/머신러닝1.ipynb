{
 "cells": [
  {
   "cell_type": "code",
   "execution_count": 1,
   "id": "709e64bc",
   "metadata": {},
   "outputs": [],
   "source": [
    "import pandas as pd\n",
    "from sklearn import metrics\n",
    "from sklearn.neighbors import KNeighborsClassifier"
   ]
  },
  {
   "cell_type": "markdown",
   "id": "97dd47ae",
   "metadata": {},
   "source": [
    "###### and"
   ]
  },
  {
   "cell_type": "code",
   "execution_count": 4,
   "id": "de552cde",
   "metadata": {},
   "outputs": [],
   "source": [
    "df_and = pd.DataFrame([[0,0,0],\n",
    "                       [0,1,0],\n",
    "                       [1,0,0],\n",
    "                       [1,1,1]],\n",
    "                     columns = ['P','Q','P and Q'])"
   ]
  },
  {
   "cell_type": "code",
   "execution_count": 5,
   "id": "28943ba4",
   "metadata": {},
   "outputs": [
    {
     "data": {
      "text/html": [
       "<div>\n",
       "<style scoped>\n",
       "    .dataframe tbody tr th:only-of-type {\n",
       "        vertical-align: middle;\n",
       "    }\n",
       "\n",
       "    .dataframe tbody tr th {\n",
       "        vertical-align: top;\n",
       "    }\n",
       "\n",
       "    .dataframe thead th {\n",
       "        text-align: right;\n",
       "    }\n",
       "</style>\n",
       "<table border=\"1\" class=\"dataframe\">\n",
       "  <thead>\n",
       "    <tr style=\"text-align: right;\">\n",
       "      <th></th>\n",
       "      <th>P</th>\n",
       "      <th>Q</th>\n",
       "      <th>P and Q</th>\n",
       "    </tr>\n",
       "  </thead>\n",
       "  <tbody>\n",
       "    <tr>\n",
       "      <th>0</th>\n",
       "      <td>0</td>\n",
       "      <td>0</td>\n",
       "      <td>0</td>\n",
       "    </tr>\n",
       "    <tr>\n",
       "      <th>1</th>\n",
       "      <td>0</td>\n",
       "      <td>1</td>\n",
       "      <td>0</td>\n",
       "    </tr>\n",
       "    <tr>\n",
       "      <th>2</th>\n",
       "      <td>1</td>\n",
       "      <td>0</td>\n",
       "      <td>0</td>\n",
       "    </tr>\n",
       "    <tr>\n",
       "      <th>3</th>\n",
       "      <td>1</td>\n",
       "      <td>1</td>\n",
       "      <td>1</td>\n",
       "    </tr>\n",
       "  </tbody>\n",
       "</table>\n",
       "</div>"
      ],
      "text/plain": [
       "   P  Q  P and Q\n",
       "0  0  0        0\n",
       "1  0  1        0\n",
       "2  1  0        0\n",
       "3  1  1        1"
      ]
     },
     "execution_count": 5,
     "metadata": {},
     "output_type": "execute_result"
    }
   ],
   "source": [
    "df_and"
   ]
  },
  {
   "cell_type": "code",
   "execution_count": 6,
   "id": "1ff5ed83",
   "metadata": {},
   "outputs": [],
   "source": [
    "x = df_and.iloc[:,:2]\n",
    "y = df_and.iloc[:,2]\n",
    "# : = 범위 지정\n",
    "# [:,:2] = 행: 전체, 열: P,Q까지 / :2 = 2열 포함하지 않음\n",
    "# [:,2] = 행: 전체,, 열: 2번째 열만 가져옴\n",
    "\n",
    "# 실제 사용시 x: train data, y: x의 정답 값"
   ]
  },
  {
   "cell_type": "code",
   "execution_count": 7,
   "id": "e20803dc",
   "metadata": {
    "scrolled": true
   },
   "outputs": [
    {
     "data": {
      "text/plain": [
       "0    0\n",
       "1    0\n",
       "2    0\n",
       "3    1\n",
       "Name: P and Q, dtype: int64"
      ]
     },
     "execution_count": 7,
     "metadata": {},
     "output_type": "execute_result"
    }
   ],
   "source": [
    "y\n",
    "#series: DataFrame에서 한 줄만 출력했을 때 형식"
   ]
  },
  {
   "cell_type": "code",
   "execution_count": 14,
   "id": "07cd6b8a",
   "metadata": {},
   "outputs": [
    {
     "data": {
      "text/html": [
       "<div>\n",
       "<style scoped>\n",
       "    .dataframe tbody tr th:only-of-type {\n",
       "        vertical-align: middle;\n",
       "    }\n",
       "\n",
       "    .dataframe tbody tr th {\n",
       "        vertical-align: top;\n",
       "    }\n",
       "\n",
       "    .dataframe thead th {\n",
       "        text-align: right;\n",
       "    }\n",
       "</style>\n",
       "<table border=\"1\" class=\"dataframe\">\n",
       "  <thead>\n",
       "    <tr style=\"text-align: right;\">\n",
       "      <th></th>\n",
       "      <th>P</th>\n",
       "      <th>Q</th>\n",
       "    </tr>\n",
       "  </thead>\n",
       "  <tbody>\n",
       "    <tr>\n",
       "      <th>0</th>\n",
       "      <td>0</td>\n",
       "      <td>0</td>\n",
       "    </tr>\n",
       "    <tr>\n",
       "      <th>1</th>\n",
       "      <td>0</td>\n",
       "      <td>1</td>\n",
       "    </tr>\n",
       "    <tr>\n",
       "      <th>2</th>\n",
       "      <td>1</td>\n",
       "      <td>0</td>\n",
       "    </tr>\n",
       "    <tr>\n",
       "      <th>3</th>\n",
       "      <td>1</td>\n",
       "      <td>1</td>\n",
       "    </tr>\n",
       "  </tbody>\n",
       "</table>\n",
       "</div>"
      ],
      "text/plain": [
       "   P  Q\n",
       "0  0  0\n",
       "1  0  1\n",
       "2  1  0\n",
       "3  1  1"
      ]
     },
     "execution_count": 14,
     "metadata": {},
     "output_type": "execute_result"
    }
   ],
   "source": [
    "x"
   ]
  },
  {
   "cell_type": "code",
   "execution_count": 8,
   "id": "5cb6289d",
   "metadata": {},
   "outputs": [],
   "source": [
    "knn_model = KNeighborsClassifier(n_neighbors=1) #근처의 데이터 1개 가져옴\n",
    "# n_neighbors : 거리(가까운)순으로 데이터 값을 가져옴\n",
    "\n",
    "# ex) 검은색,흰색 분류하기\n",
    "# n_neighbors=4이고, 검은색 2개 흰색 2개일 때, 가까운 순으로 값 가져옴\n",
    "# 숫자의 크기가 성능의 절대값은 아님, 개인이 연구하면서 조정\n",
    "\n",
    "# knn_model : 지도학습의 분류 모델 중 하나\n",
    "#지도학습: 데이터, 데이터의 정답 입력해서 학습 후 새로운 데이터 입력해서 정답 예측"
   ]
  },
  {
   "cell_type": "code",
   "execution_count": 9,
   "id": "049ba251",
   "metadata": {},
   "outputs": [
    {
     "data": {
      "text/plain": [
       "KNeighborsClassifier(n_neighbors=1)"
      ]
     },
     "execution_count": 9,
     "metadata": {},
     "output_type": "execute_result"
    }
   ],
   "source": [
    "knn_model.fit(x,y)\n",
    "# x:데이터, y:데이터의 정답 입력해서 학습시키기"
   ]
  },
  {
   "cell_type": "code",
   "execution_count": 11,
   "id": "c42b897d",
   "metadata": {},
   "outputs": [
    {
     "name": "stderr",
     "output_type": "stream",
     "text": [
      "C:\\Users\\user\\anaconda3\\lib\\site-packages\\sklearn\\base.py:450: UserWarning: X does not have valid feature names, but KNeighborsClassifier was fitted with feature names\n",
      "  warnings.warn(\n"
     ]
    }
   ],
   "source": [
    "pre = knn_model.predict([[1,1],\n",
    "                         [0,1],\n",
    "                         [1,0],\n",
    "                         [0,0]])\n",
    "# 새로운 데이터 입력해서 정답 예측하기\n",
    "# 둘 다 1이면 1, 둘 중에 하나라도 0이면 0"
   ]
  },
  {
   "cell_type": "code",
   "execution_count": 12,
   "id": "3a2ede1f",
   "metadata": {},
   "outputs": [],
   "source": [
    "answer = [1,0,0,0]\n",
    "#실제 정답 값"
   ]
  },
  {
   "cell_type": "code",
   "execution_count": 13,
   "id": "6b11762f",
   "metadata": {},
   "outputs": [
    {
     "data": {
      "text/plain": [
       "1.0"
      ]
     },
     "execution_count": 13,
     "metadata": {},
     "output_type": "execute_result"
    }
   ],
   "source": [
    "metrics.accuracy_score(pre, answer)\n",
    "# 정확도: 정답 예측 결과와 정답이 얼마나 일치하는지 (최소:0 ~ 최대:1)\n",
    "# 위 예시는 정확하게 일치함"
   ]
  },
  {
   "cell_type": "markdown",
   "id": "262cd7f7",
   "metadata": {},
   "source": [
    "###### xor"
   ]
  },
  {
   "cell_type": "code",
   "execution_count": 16,
   "id": "42accaf4",
   "metadata": {},
   "outputs": [],
   "source": [
    "df_xor = pd.DataFrame([[0,0,0],\n",
    "                       [0,1,1],\n",
    "                       [1,0,1],\n",
    "                       [1,1,0]],\n",
    "                       columns = ['P','Q','P xor Q'])"
   ]
  },
  {
   "cell_type": "code",
   "execution_count": 17,
   "id": "b5f95f2d",
   "metadata": {},
   "outputs": [
    {
     "data": {
      "text/html": [
       "<div>\n",
       "<style scoped>\n",
       "    .dataframe tbody tr th:only-of-type {\n",
       "        vertical-align: middle;\n",
       "    }\n",
       "\n",
       "    .dataframe tbody tr th {\n",
       "        vertical-align: top;\n",
       "    }\n",
       "\n",
       "    .dataframe thead th {\n",
       "        text-align: right;\n",
       "    }\n",
       "</style>\n",
       "<table border=\"1\" class=\"dataframe\">\n",
       "  <thead>\n",
       "    <tr style=\"text-align: right;\">\n",
       "      <th></th>\n",
       "      <th>P</th>\n",
       "      <th>Q</th>\n",
       "      <th>P xor Q</th>\n",
       "    </tr>\n",
       "  </thead>\n",
       "  <tbody>\n",
       "    <tr>\n",
       "      <th>0</th>\n",
       "      <td>0</td>\n",
       "      <td>0</td>\n",
       "      <td>0</td>\n",
       "    </tr>\n",
       "    <tr>\n",
       "      <th>1</th>\n",
       "      <td>0</td>\n",
       "      <td>1</td>\n",
       "      <td>1</td>\n",
       "    </tr>\n",
       "    <tr>\n",
       "      <th>2</th>\n",
       "      <td>1</td>\n",
       "      <td>0</td>\n",
       "      <td>1</td>\n",
       "    </tr>\n",
       "    <tr>\n",
       "      <th>3</th>\n",
       "      <td>1</td>\n",
       "      <td>1</td>\n",
       "      <td>0</td>\n",
       "    </tr>\n",
       "  </tbody>\n",
       "</table>\n",
       "</div>"
      ],
      "text/plain": [
       "   P  Q  P xor Q\n",
       "0  0  0        0\n",
       "1  0  1        1\n",
       "2  1  0        1\n",
       "3  1  1        0"
      ]
     },
     "execution_count": 17,
     "metadata": {},
     "output_type": "execute_result"
    }
   ],
   "source": [
    "df_xor"
   ]
  },
  {
   "cell_type": "code",
   "execution_count": 18,
   "id": "9c8efec8",
   "metadata": {},
   "outputs": [],
   "source": [
    "x1 = df_xor.iloc[:,:2]\n",
    "y1 = df_xor.iloc[:,2]"
   ]
  },
  {
   "cell_type": "code",
   "execution_count": 19,
   "id": "206d8e71",
   "metadata": {},
   "outputs": [
    {
     "data": {
      "text/html": [
       "<div>\n",
       "<style scoped>\n",
       "    .dataframe tbody tr th:only-of-type {\n",
       "        vertical-align: middle;\n",
       "    }\n",
       "\n",
       "    .dataframe tbody tr th {\n",
       "        vertical-align: top;\n",
       "    }\n",
       "\n",
       "    .dataframe thead th {\n",
       "        text-align: right;\n",
       "    }\n",
       "</style>\n",
       "<table border=\"1\" class=\"dataframe\">\n",
       "  <thead>\n",
       "    <tr style=\"text-align: right;\">\n",
       "      <th></th>\n",
       "      <th>P</th>\n",
       "      <th>Q</th>\n",
       "    </tr>\n",
       "  </thead>\n",
       "  <tbody>\n",
       "    <tr>\n",
       "      <th>0</th>\n",
       "      <td>0</td>\n",
       "      <td>0</td>\n",
       "    </tr>\n",
       "    <tr>\n",
       "      <th>1</th>\n",
       "      <td>0</td>\n",
       "      <td>1</td>\n",
       "    </tr>\n",
       "    <tr>\n",
       "      <th>2</th>\n",
       "      <td>1</td>\n",
       "      <td>0</td>\n",
       "    </tr>\n",
       "    <tr>\n",
       "      <th>3</th>\n",
       "      <td>1</td>\n",
       "      <td>1</td>\n",
       "    </tr>\n",
       "  </tbody>\n",
       "</table>\n",
       "</div>"
      ],
      "text/plain": [
       "   P  Q\n",
       "0  0  0\n",
       "1  0  1\n",
       "2  1  0\n",
       "3  1  1"
      ]
     },
     "execution_count": 19,
     "metadata": {},
     "output_type": "execute_result"
    }
   ],
   "source": [
    "x1"
   ]
  },
  {
   "cell_type": "code",
   "execution_count": 20,
   "id": "5d98880f",
   "metadata": {},
   "outputs": [
    {
     "data": {
      "text/plain": [
       "0    0\n",
       "1    1\n",
       "2    1\n",
       "3    0\n",
       "Name: P xor Q, dtype: int64"
      ]
     },
     "execution_count": 20,
     "metadata": {},
     "output_type": "execute_result"
    }
   ],
   "source": [
    "y1"
   ]
  },
  {
   "cell_type": "code",
   "execution_count": 21,
   "id": "9fe34f59",
   "metadata": {},
   "outputs": [],
   "source": [
    "knn_model1 = KNeighborsClassifier(n_neighbors=1)"
   ]
  },
  {
   "cell_type": "code",
   "execution_count": 22,
   "id": "1c71cfbd",
   "metadata": {},
   "outputs": [
    {
     "data": {
      "text/plain": [
       "KNeighborsClassifier(n_neighbors=1)"
      ]
     },
     "execution_count": 22,
     "metadata": {},
     "output_type": "execute_result"
    }
   ],
   "source": [
    "knn_model1.fit(x1,y1)\n",
    "# 데이터 x, 데이터의 정답 y 입력해서 학습시키기"
   ]
  },
  {
   "cell_type": "code",
   "execution_count": 39,
   "id": "6a580a2b",
   "metadata": {},
   "outputs": [
    {
     "name": "stderr",
     "output_type": "stream",
     "text": [
      "C:\\Users\\user\\anaconda3\\lib\\site-packages\\sklearn\\base.py:450: UserWarning: X does not have valid feature names, but KNeighborsClassifier was fitted with feature names\n",
      "  warnings.warn(\n"
     ]
    }
   ],
   "source": [
    "pred1 = knn_model1.predict([[1,1],\n",
    "                            [0,1],\n",
    "                            [1,0],\n",
    "                            [0,0]])\n",
    "# 새로운 데이터 입력해서 정답 예측"
   ]
  },
  {
   "cell_type": "code",
   "execution_count": 46,
   "id": "e78ed25d",
   "metadata": {},
   "outputs": [],
   "source": [
    "answer1 = [0,1,1,0]"
   ]
  },
  {
   "cell_type": "code",
   "execution_count": 47,
   "id": "8cd34bd6",
   "metadata": {},
   "outputs": [
    {
     "data": {
      "text/plain": [
       "array([0, 1, 1, 0], dtype=int64)"
      ]
     },
     "execution_count": 47,
     "metadata": {},
     "output_type": "execute_result"
    }
   ],
   "source": [
    "pred1"
   ]
  },
  {
   "cell_type": "code",
   "execution_count": 48,
   "id": "c385f3e4",
   "metadata": {},
   "outputs": [
    {
     "data": {
      "text/plain": [
       "1.0"
      ]
     },
     "execution_count": 48,
     "metadata": {},
     "output_type": "execute_result"
    }
   ],
   "source": [
    "metrics.accuracy_score(pred1,answer1)"
   ]
  },
  {
   "cell_type": "code",
   "execution_count": null,
   "id": "b6290b5d",
   "metadata": {},
   "outputs": [],
   "source": []
  }
 ],
 "metadata": {
  "kernelspec": {
   "display_name": "Python 3 (ipykernel)",
   "language": "python",
   "name": "python3"
  },
  "language_info": {
   "codemirror_mode": {
    "name": "ipython",
    "version": 3
   },
   "file_extension": ".py",
   "mimetype": "text/x-python",
   "name": "python",
   "nbconvert_exporter": "python",
   "pygments_lexer": "ipython3",
   "version": "3.9.12"
  }
 },
 "nbformat": 4,
 "nbformat_minor": 5
}

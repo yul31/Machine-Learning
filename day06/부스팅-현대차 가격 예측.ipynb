{
 "cells": [
  {
   "cell_type": "markdown",
   "id": "893a47d6",
   "metadata": {},
   "source": [
    "### 1. 목표 - 현대차 가격 예측하기"
   ]
  },
  {
   "cell_type": "code",
   "execution_count": 2,
   "id": "a6f48775",
   "metadata": {},
   "outputs": [],
   "source": [
    "import pandas as pd\n",
    "import numpy as np\n",
    "from sklearn.preprocessing import OneHotEncoder\n",
    "from sklearn.compose import make_column_transformer\n",
    "from sklearn.ensemble import RandomForestRegressor"
   ]
  },
  {
   "cell_type": "markdown",
   "id": "48d3a9b3",
   "metadata": {},
   "source": [
    "### 2. 데이터 수집"
   ]
  },
  {
   "cell_type": "code",
   "execution_count": 3,
   "id": "a2e282dc",
   "metadata": {},
   "outputs": [],
   "source": [
    "train_df = pd.read_excel('현대차_가격.xlsx', sheet_name='train')\n",
    "test_df = pd.read_excel('현대차_가격.xlsx', sheet_name='test')"
   ]
  },
  {
   "cell_type": "code",
   "execution_count": 4,
   "id": "8e6e1cb6",
   "metadata": {},
   "outputs": [
    {
     "data": {
      "text/html": [
       "<div>\n",
       "<style scoped>\n",
       "    .dataframe tbody tr th:only-of-type {\n",
       "        vertical-align: middle;\n",
       "    }\n",
       "\n",
       "    .dataframe tbody tr th {\n",
       "        vertical-align: top;\n",
       "    }\n",
       "\n",
       "    .dataframe thead th {\n",
       "        text-align: right;\n",
       "    }\n",
       "</style>\n",
       "<table border=\"1\" class=\"dataframe\">\n",
       "  <thead>\n",
       "    <tr style=\"text-align: right;\">\n",
       "      <th></th>\n",
       "      <th>가격</th>\n",
       "      <th>년식</th>\n",
       "      <th>종류</th>\n",
       "      <th>연비</th>\n",
       "      <th>마력</th>\n",
       "      <th>토크</th>\n",
       "      <th>연료</th>\n",
       "      <th>하이브리드</th>\n",
       "      <th>배기량</th>\n",
       "      <th>중량</th>\n",
       "      <th>변속기</th>\n",
       "    </tr>\n",
       "  </thead>\n",
       "  <tbody>\n",
       "    <tr>\n",
       "      <th>0</th>\n",
       "      <td>1885</td>\n",
       "      <td>2015</td>\n",
       "      <td>준중형</td>\n",
       "      <td>11.8</td>\n",
       "      <td>172</td>\n",
       "      <td>21.0</td>\n",
       "      <td>가솔린</td>\n",
       "      <td>0</td>\n",
       "      <td>1999</td>\n",
       "      <td>1300</td>\n",
       "      <td>자동</td>\n",
       "    </tr>\n",
       "    <tr>\n",
       "      <th>1</th>\n",
       "      <td>2190</td>\n",
       "      <td>2015</td>\n",
       "      <td>준중형</td>\n",
       "      <td>12.3</td>\n",
       "      <td>204</td>\n",
       "      <td>27.0</td>\n",
       "      <td>가솔린</td>\n",
       "      <td>0</td>\n",
       "      <td>1591</td>\n",
       "      <td>1300</td>\n",
       "      <td>자동</td>\n",
       "    </tr>\n",
       "    <tr>\n",
       "      <th>2</th>\n",
       "      <td>1135</td>\n",
       "      <td>2015</td>\n",
       "      <td>소형</td>\n",
       "      <td>15.0</td>\n",
       "      <td>100</td>\n",
       "      <td>13.6</td>\n",
       "      <td>가솔린</td>\n",
       "      <td>0</td>\n",
       "      <td>1368</td>\n",
       "      <td>1035</td>\n",
       "      <td>수동</td>\n",
       "    </tr>\n",
       "    <tr>\n",
       "      <th>3</th>\n",
       "      <td>1645</td>\n",
       "      <td>2014</td>\n",
       "      <td>소형</td>\n",
       "      <td>14.0</td>\n",
       "      <td>140</td>\n",
       "      <td>17.0</td>\n",
       "      <td>가솔린</td>\n",
       "      <td>0</td>\n",
       "      <td>1591</td>\n",
       "      <td>1090</td>\n",
       "      <td>자동</td>\n",
       "    </tr>\n",
       "    <tr>\n",
       "      <th>4</th>\n",
       "      <td>1960</td>\n",
       "      <td>2015</td>\n",
       "      <td>대형</td>\n",
       "      <td>9.6</td>\n",
       "      <td>175</td>\n",
       "      <td>46.0</td>\n",
       "      <td>디젤</td>\n",
       "      <td>0</td>\n",
       "      <td>2497</td>\n",
       "      <td>1990</td>\n",
       "      <td>자동</td>\n",
       "    </tr>\n",
       "    <tr>\n",
       "      <th>...</th>\n",
       "      <td>...</td>\n",
       "      <td>...</td>\n",
       "      <td>...</td>\n",
       "      <td>...</td>\n",
       "      <td>...</td>\n",
       "      <td>...</td>\n",
       "      <td>...</td>\n",
       "      <td>...</td>\n",
       "      <td>...</td>\n",
       "      <td>...</td>\n",
       "      <td>...</td>\n",
       "    </tr>\n",
       "    <tr>\n",
       "      <th>66</th>\n",
       "      <td>3802</td>\n",
       "      <td>2015</td>\n",
       "      <td>중형</td>\n",
       "      <td>8.5</td>\n",
       "      <td>290</td>\n",
       "      <td>34.8</td>\n",
       "      <td>가솔린</td>\n",
       "      <td>0</td>\n",
       "      <td>3342</td>\n",
       "      <td>1901</td>\n",
       "      <td>자동</td>\n",
       "    </tr>\n",
       "    <tr>\n",
       "      <th>67</th>\n",
       "      <td>1270</td>\n",
       "      <td>2012</td>\n",
       "      <td>소형</td>\n",
       "      <td>13.3</td>\n",
       "      <td>108</td>\n",
       "      <td>13.9</td>\n",
       "      <td>가솔린</td>\n",
       "      <td>0</td>\n",
       "      <td>1396</td>\n",
       "      <td>1040</td>\n",
       "      <td>자동</td>\n",
       "    </tr>\n",
       "    <tr>\n",
       "      <th>68</th>\n",
       "      <td>2430</td>\n",
       "      <td>2015</td>\n",
       "      <td>준중형</td>\n",
       "      <td>12.8</td>\n",
       "      <td>186</td>\n",
       "      <td>41.0</td>\n",
       "      <td>디젤</td>\n",
       "      <td>0</td>\n",
       "      <td>1995</td>\n",
       "      <td>1665</td>\n",
       "      <td>자동</td>\n",
       "    </tr>\n",
       "    <tr>\n",
       "      <th>69</th>\n",
       "      <td>2870</td>\n",
       "      <td>2015</td>\n",
       "      <td>중형</td>\n",
       "      <td>17.7</td>\n",
       "      <td>156</td>\n",
       "      <td>19.3</td>\n",
       "      <td>가솔린</td>\n",
       "      <td>1</td>\n",
       "      <td>1999</td>\n",
       "      <td>1585</td>\n",
       "      <td>자동</td>\n",
       "    </tr>\n",
       "    <tr>\n",
       "      <th>70</th>\n",
       "      <td>3254</td>\n",
       "      <td>2015</td>\n",
       "      <td>대형</td>\n",
       "      <td>13.8</td>\n",
       "      <td>202</td>\n",
       "      <td>45.0</td>\n",
       "      <td>디젤</td>\n",
       "      <td>0</td>\n",
       "      <td>2199</td>\n",
       "      <td>1691</td>\n",
       "      <td>자동</td>\n",
       "    </tr>\n",
       "  </tbody>\n",
       "</table>\n",
       "<p>71 rows × 11 columns</p>\n",
       "</div>"
      ],
      "text/plain": [
       "      가격    년식   종류    연비   마력    토크   연료  하이브리드   배기량    중량 변속기\n",
       "0   1885  2015  준중형  11.8  172  21.0  가솔린      0  1999  1300  자동\n",
       "1   2190  2015  준중형  12.3  204  27.0  가솔린      0  1591  1300  자동\n",
       "2   1135  2015   소형  15.0  100  13.6  가솔린      0  1368  1035  수동\n",
       "3   1645  2014   소형  14.0  140  17.0  가솔린      0  1591  1090  자동\n",
       "4   1960  2015   대형   9.6  175  46.0   디젤      0  2497  1990  자동\n",
       "..   ...   ...  ...   ...  ...   ...  ...    ...   ...   ...  ..\n",
       "66  3802  2015   중형   8.5  290  34.8  가솔린      0  3342  1901  자동\n",
       "67  1270  2012   소형  13.3  108  13.9  가솔린      0  1396  1040  자동\n",
       "68  2430  2015  준중형  12.8  186  41.0   디젤      0  1995  1665  자동\n",
       "69  2870  2015   중형  17.7  156  19.3  가솔린      1  1999  1585  자동\n",
       "70  3254  2015   대형  13.8  202  45.0   디젤      0  2199  1691  자동\n",
       "\n",
       "[71 rows x 11 columns]"
      ]
     },
     "execution_count": 4,
     "metadata": {},
     "output_type": "execute_result"
    }
   ],
   "source": [
    "train_df"
   ]
  },
  {
   "cell_type": "code",
   "execution_count": 5,
   "id": "599e574e",
   "metadata": {},
   "outputs": [],
   "source": [
    "x_train = train_df.drop(['가격'], axis=1)\n",
    "x_test = test_df.drop(['가격'],axis=1)\n",
    "y_train = train_df['가격']\n",
    "y_test = test_df['가격']"
   ]
  },
  {
   "cell_type": "code",
   "execution_count": 6,
   "id": "b2f65430",
   "metadata": {},
   "outputs": [
    {
     "data": {
      "text/html": [
       "<div>\n",
       "<style scoped>\n",
       "    .dataframe tbody tr th:only-of-type {\n",
       "        vertical-align: middle;\n",
       "    }\n",
       "\n",
       "    .dataframe tbody tr th {\n",
       "        vertical-align: top;\n",
       "    }\n",
       "\n",
       "    .dataframe thead th {\n",
       "        text-align: right;\n",
       "    }\n",
       "</style>\n",
       "<table border=\"1\" class=\"dataframe\">\n",
       "  <thead>\n",
       "    <tr style=\"text-align: right;\">\n",
       "      <th></th>\n",
       "      <th>년식</th>\n",
       "      <th>종류</th>\n",
       "      <th>연비</th>\n",
       "      <th>마력</th>\n",
       "      <th>토크</th>\n",
       "      <th>연료</th>\n",
       "      <th>하이브리드</th>\n",
       "      <th>배기량</th>\n",
       "      <th>중량</th>\n",
       "      <th>변속기</th>\n",
       "    </tr>\n",
       "  </thead>\n",
       "  <tbody>\n",
       "    <tr>\n",
       "      <th>0</th>\n",
       "      <td>2015</td>\n",
       "      <td>준중형</td>\n",
       "      <td>11.8</td>\n",
       "      <td>172</td>\n",
       "      <td>21.0</td>\n",
       "      <td>가솔린</td>\n",
       "      <td>0</td>\n",
       "      <td>1999</td>\n",
       "      <td>1300</td>\n",
       "      <td>자동</td>\n",
       "    </tr>\n",
       "    <tr>\n",
       "      <th>1</th>\n",
       "      <td>2015</td>\n",
       "      <td>준중형</td>\n",
       "      <td>12.3</td>\n",
       "      <td>204</td>\n",
       "      <td>27.0</td>\n",
       "      <td>가솔린</td>\n",
       "      <td>0</td>\n",
       "      <td>1591</td>\n",
       "      <td>1300</td>\n",
       "      <td>자동</td>\n",
       "    </tr>\n",
       "    <tr>\n",
       "      <th>2</th>\n",
       "      <td>2015</td>\n",
       "      <td>소형</td>\n",
       "      <td>15.0</td>\n",
       "      <td>100</td>\n",
       "      <td>13.6</td>\n",
       "      <td>가솔린</td>\n",
       "      <td>0</td>\n",
       "      <td>1368</td>\n",
       "      <td>1035</td>\n",
       "      <td>수동</td>\n",
       "    </tr>\n",
       "    <tr>\n",
       "      <th>3</th>\n",
       "      <td>2014</td>\n",
       "      <td>소형</td>\n",
       "      <td>14.0</td>\n",
       "      <td>140</td>\n",
       "      <td>17.0</td>\n",
       "      <td>가솔린</td>\n",
       "      <td>0</td>\n",
       "      <td>1591</td>\n",
       "      <td>1090</td>\n",
       "      <td>자동</td>\n",
       "    </tr>\n",
       "    <tr>\n",
       "      <th>4</th>\n",
       "      <td>2015</td>\n",
       "      <td>대형</td>\n",
       "      <td>9.6</td>\n",
       "      <td>175</td>\n",
       "      <td>46.0</td>\n",
       "      <td>디젤</td>\n",
       "      <td>0</td>\n",
       "      <td>2497</td>\n",
       "      <td>1990</td>\n",
       "      <td>자동</td>\n",
       "    </tr>\n",
       "    <tr>\n",
       "      <th>...</th>\n",
       "      <td>...</td>\n",
       "      <td>...</td>\n",
       "      <td>...</td>\n",
       "      <td>...</td>\n",
       "      <td>...</td>\n",
       "      <td>...</td>\n",
       "      <td>...</td>\n",
       "      <td>...</td>\n",
       "      <td>...</td>\n",
       "      <td>...</td>\n",
       "    </tr>\n",
       "    <tr>\n",
       "      <th>66</th>\n",
       "      <td>2015</td>\n",
       "      <td>중형</td>\n",
       "      <td>8.5</td>\n",
       "      <td>290</td>\n",
       "      <td>34.8</td>\n",
       "      <td>가솔린</td>\n",
       "      <td>0</td>\n",
       "      <td>3342</td>\n",
       "      <td>1901</td>\n",
       "      <td>자동</td>\n",
       "    </tr>\n",
       "    <tr>\n",
       "      <th>67</th>\n",
       "      <td>2012</td>\n",
       "      <td>소형</td>\n",
       "      <td>13.3</td>\n",
       "      <td>108</td>\n",
       "      <td>13.9</td>\n",
       "      <td>가솔린</td>\n",
       "      <td>0</td>\n",
       "      <td>1396</td>\n",
       "      <td>1040</td>\n",
       "      <td>자동</td>\n",
       "    </tr>\n",
       "    <tr>\n",
       "      <th>68</th>\n",
       "      <td>2015</td>\n",
       "      <td>준중형</td>\n",
       "      <td>12.8</td>\n",
       "      <td>186</td>\n",
       "      <td>41.0</td>\n",
       "      <td>디젤</td>\n",
       "      <td>0</td>\n",
       "      <td>1995</td>\n",
       "      <td>1665</td>\n",
       "      <td>자동</td>\n",
       "    </tr>\n",
       "    <tr>\n",
       "      <th>69</th>\n",
       "      <td>2015</td>\n",
       "      <td>중형</td>\n",
       "      <td>17.7</td>\n",
       "      <td>156</td>\n",
       "      <td>19.3</td>\n",
       "      <td>가솔린</td>\n",
       "      <td>1</td>\n",
       "      <td>1999</td>\n",
       "      <td>1585</td>\n",
       "      <td>자동</td>\n",
       "    </tr>\n",
       "    <tr>\n",
       "      <th>70</th>\n",
       "      <td>2015</td>\n",
       "      <td>대형</td>\n",
       "      <td>13.8</td>\n",
       "      <td>202</td>\n",
       "      <td>45.0</td>\n",
       "      <td>디젤</td>\n",
       "      <td>0</td>\n",
       "      <td>2199</td>\n",
       "      <td>1691</td>\n",
       "      <td>자동</td>\n",
       "    </tr>\n",
       "  </tbody>\n",
       "</table>\n",
       "<p>71 rows × 10 columns</p>\n",
       "</div>"
      ],
      "text/plain": [
       "      년식   종류    연비   마력    토크   연료  하이브리드   배기량    중량 변속기\n",
       "0   2015  준중형  11.8  172  21.0  가솔린      0  1999  1300  자동\n",
       "1   2015  준중형  12.3  204  27.0  가솔린      0  1591  1300  자동\n",
       "2   2015   소형  15.0  100  13.6  가솔린      0  1368  1035  수동\n",
       "3   2014   소형  14.0  140  17.0  가솔린      0  1591  1090  자동\n",
       "4   2015   대형   9.6  175  46.0   디젤      0  2497  1990  자동\n",
       "..   ...  ...   ...  ...   ...  ...    ...   ...   ...  ..\n",
       "66  2015   중형   8.5  290  34.8  가솔린      0  3342  1901  자동\n",
       "67  2012   소형  13.3  108  13.9  가솔린      0  1396  1040  자동\n",
       "68  2015  준중형  12.8  186  41.0   디젤      0  1995  1665  자동\n",
       "69  2015   중형  17.7  156  19.3  가솔린      1  1999  1585  자동\n",
       "70  2015   대형  13.8  202  45.0   디젤      0  2199  1691  자동\n",
       "\n",
       "[71 rows x 10 columns]"
      ]
     },
     "execution_count": 6,
     "metadata": {},
     "output_type": "execute_result"
    }
   ],
   "source": [
    "x_train"
   ]
  },
  {
   "cell_type": "code",
   "execution_count": 7,
   "id": "d0d69264",
   "metadata": {},
   "outputs": [
    {
     "data": {
      "text/html": [
       "<div>\n",
       "<style scoped>\n",
       "    .dataframe tbody tr th:only-of-type {\n",
       "        vertical-align: middle;\n",
       "    }\n",
       "\n",
       "    .dataframe tbody tr th {\n",
       "        vertical-align: top;\n",
       "    }\n",
       "\n",
       "    .dataframe thead th {\n",
       "        text-align: right;\n",
       "    }\n",
       "</style>\n",
       "<table border=\"1\" class=\"dataframe\">\n",
       "  <thead>\n",
       "    <tr style=\"text-align: right;\">\n",
       "      <th></th>\n",
       "      <th>년식</th>\n",
       "      <th>종류</th>\n",
       "      <th>연비</th>\n",
       "      <th>마력</th>\n",
       "      <th>토크</th>\n",
       "      <th>연료</th>\n",
       "      <th>하이브리드</th>\n",
       "      <th>배기량</th>\n",
       "      <th>중량</th>\n",
       "      <th>변속기</th>\n",
       "    </tr>\n",
       "  </thead>\n",
       "  <tbody>\n",
       "    <tr>\n",
       "      <th>0</th>\n",
       "      <td>2015</td>\n",
       "      <td>대형</td>\n",
       "      <td>6.8</td>\n",
       "      <td>159</td>\n",
       "      <td>23.0</td>\n",
       "      <td>LPG</td>\n",
       "      <td>0</td>\n",
       "      <td>2359</td>\n",
       "      <td>1935</td>\n",
       "      <td>수동</td>\n",
       "    </tr>\n",
       "    <tr>\n",
       "      <th>1</th>\n",
       "      <td>2012</td>\n",
       "      <td>소형</td>\n",
       "      <td>13.3</td>\n",
       "      <td>108</td>\n",
       "      <td>13.9</td>\n",
       "      <td>가솔린</td>\n",
       "      <td>0</td>\n",
       "      <td>1396</td>\n",
       "      <td>1035</td>\n",
       "      <td>자동</td>\n",
       "    </tr>\n",
       "    <tr>\n",
       "      <th>2</th>\n",
       "      <td>2015</td>\n",
       "      <td>중형</td>\n",
       "      <td>14.4</td>\n",
       "      <td>184</td>\n",
       "      <td>41.0</td>\n",
       "      <td>디젤</td>\n",
       "      <td>0</td>\n",
       "      <td>1995</td>\n",
       "      <td>1792</td>\n",
       "      <td>자동</td>\n",
       "    </tr>\n",
       "    <tr>\n",
       "      <th>3</th>\n",
       "      <td>2015</td>\n",
       "      <td>대형</td>\n",
       "      <td>10.9</td>\n",
       "      <td>175</td>\n",
       "      <td>46.0</td>\n",
       "      <td>디젤</td>\n",
       "      <td>0</td>\n",
       "      <td>2497</td>\n",
       "      <td>2210</td>\n",
       "      <td>수동</td>\n",
       "    </tr>\n",
       "    <tr>\n",
       "      <th>4</th>\n",
       "      <td>2015</td>\n",
       "      <td>대형</td>\n",
       "      <td>6.4</td>\n",
       "      <td>159</td>\n",
       "      <td>23.0</td>\n",
       "      <td>LPG</td>\n",
       "      <td>0</td>\n",
       "      <td>2359</td>\n",
       "      <td>1935</td>\n",
       "      <td>자동</td>\n",
       "    </tr>\n",
       "    <tr>\n",
       "      <th>5</th>\n",
       "      <td>2015</td>\n",
       "      <td>소형</td>\n",
       "      <td>18.0</td>\n",
       "      <td>136</td>\n",
       "      <td>30.6</td>\n",
       "      <td>디젤</td>\n",
       "      <td>0</td>\n",
       "      <td>1582</td>\n",
       "      <td>1160</td>\n",
       "      <td>자동</td>\n",
       "    </tr>\n",
       "    <tr>\n",
       "      <th>6</th>\n",
       "      <td>2015</td>\n",
       "      <td>준중형</td>\n",
       "      <td>13.9</td>\n",
       "      <td>184</td>\n",
       "      <td>41.0</td>\n",
       "      <td>디젤</td>\n",
       "      <td>0</td>\n",
       "      <td>1995</td>\n",
       "      <td>1611</td>\n",
       "      <td>수동</td>\n",
       "    </tr>\n",
       "    <tr>\n",
       "      <th>7</th>\n",
       "      <td>2015</td>\n",
       "      <td>대형</td>\n",
       "      <td>8.9</td>\n",
       "      <td>133</td>\n",
       "      <td>26.5</td>\n",
       "      <td>디젤</td>\n",
       "      <td>0</td>\n",
       "      <td>2497</td>\n",
       "      <td>1696</td>\n",
       "      <td>수동</td>\n",
       "    </tr>\n",
       "    <tr>\n",
       "      <th>8</th>\n",
       "      <td>2015</td>\n",
       "      <td>준중형</td>\n",
       "      <td>12.5</td>\n",
       "      <td>184</td>\n",
       "      <td>41.0</td>\n",
       "      <td>디젤</td>\n",
       "      <td>0</td>\n",
       "      <td>1995</td>\n",
       "      <td>1611</td>\n",
       "      <td>자동</td>\n",
       "    </tr>\n",
       "    <tr>\n",
       "      <th>9</th>\n",
       "      <td>2015</td>\n",
       "      <td>준중형</td>\n",
       "      <td>12.8</td>\n",
       "      <td>215</td>\n",
       "      <td>21.3</td>\n",
       "      <td>가솔린</td>\n",
       "      <td>0</td>\n",
       "      <td>1999</td>\n",
       "      <td>1216</td>\n",
       "      <td>수동</td>\n",
       "    </tr>\n",
       "    <tr>\n",
       "      <th>10</th>\n",
       "      <td>2015</td>\n",
       "      <td>중형</td>\n",
       "      <td>11.6</td>\n",
       "      <td>168</td>\n",
       "      <td>20.5</td>\n",
       "      <td>가솔린</td>\n",
       "      <td>0</td>\n",
       "      <td>1999</td>\n",
       "      <td>1460</td>\n",
       "      <td>자동</td>\n",
       "    </tr>\n",
       "    <tr>\n",
       "      <th>11</th>\n",
       "      <td>2015</td>\n",
       "      <td>중형</td>\n",
       "      <td>8.9</td>\n",
       "      <td>290</td>\n",
       "      <td>34.8</td>\n",
       "      <td>가솔린</td>\n",
       "      <td>0</td>\n",
       "      <td>3342</td>\n",
       "      <td>1832</td>\n",
       "      <td>자동</td>\n",
       "    </tr>\n",
       "    <tr>\n",
       "      <th>12</th>\n",
       "      <td>2015</td>\n",
       "      <td>소형</td>\n",
       "      <td>18.0</td>\n",
       "      <td>136</td>\n",
       "      <td>30.6</td>\n",
       "      <td>디젤</td>\n",
       "      <td>0</td>\n",
       "      <td>1582</td>\n",
       "      <td>1190</td>\n",
       "      <td>자동</td>\n",
       "    </tr>\n",
       "    <tr>\n",
       "      <th>13</th>\n",
       "      <td>2015</td>\n",
       "      <td>준중형</td>\n",
       "      <td>16.2</td>\n",
       "      <td>128</td>\n",
       "      <td>28.5</td>\n",
       "      <td>디젤</td>\n",
       "      <td>0</td>\n",
       "      <td>1582</td>\n",
       "      <td>1305</td>\n",
       "      <td>자동</td>\n",
       "    </tr>\n",
       "    <tr>\n",
       "      <th>14</th>\n",
       "      <td>2015</td>\n",
       "      <td>대형</td>\n",
       "      <td>8.6</td>\n",
       "      <td>282</td>\n",
       "      <td>35.4</td>\n",
       "      <td>가솔린</td>\n",
       "      <td>0</td>\n",
       "      <td>3342</td>\n",
       "      <td>1970</td>\n",
       "      <td>자동</td>\n",
       "    </tr>\n",
       "    <tr>\n",
       "      <th>15</th>\n",
       "      <td>2015</td>\n",
       "      <td>소형</td>\n",
       "      <td>19.0</td>\n",
       "      <td>136</td>\n",
       "      <td>30.6</td>\n",
       "      <td>디젤</td>\n",
       "      <td>0</td>\n",
       "      <td>1582</td>\n",
       "      <td>1190</td>\n",
       "      <td>수동</td>\n",
       "    </tr>\n",
       "    <tr>\n",
       "      <th>16</th>\n",
       "      <td>2015</td>\n",
       "      <td>준중형</td>\n",
       "      <td>14.4</td>\n",
       "      <td>184</td>\n",
       "      <td>41.0</td>\n",
       "      <td>디젤</td>\n",
       "      <td>0</td>\n",
       "      <td>1995</td>\n",
       "      <td>1548</td>\n",
       "      <td>수동</td>\n",
       "    </tr>\n",
       "    <tr>\n",
       "      <th>17</th>\n",
       "      <td>2015</td>\n",
       "      <td>소형</td>\n",
       "      <td>14.1</td>\n",
       "      <td>100</td>\n",
       "      <td>13.6</td>\n",
       "      <td>가솔린</td>\n",
       "      <td>0</td>\n",
       "      <td>1368</td>\n",
       "      <td>1035</td>\n",
       "      <td>자동</td>\n",
       "    </tr>\n",
       "    <tr>\n",
       "      <th>18</th>\n",
       "      <td>2014</td>\n",
       "      <td>소형</td>\n",
       "      <td>14.1</td>\n",
       "      <td>100</td>\n",
       "      <td>13.6</td>\n",
       "      <td>가솔린</td>\n",
       "      <td>0</td>\n",
       "      <td>1368</td>\n",
       "      <td>1035</td>\n",
       "      <td>자동</td>\n",
       "    </tr>\n",
       "    <tr>\n",
       "      <th>19</th>\n",
       "      <td>2015</td>\n",
       "      <td>준중형</td>\n",
       "      <td>12.4</td>\n",
       "      <td>204</td>\n",
       "      <td>27.0</td>\n",
       "      <td>가솔린</td>\n",
       "      <td>0</td>\n",
       "      <td>1591</td>\n",
       "      <td>1300</td>\n",
       "      <td>수동</td>\n",
       "    </tr>\n",
       "    <tr>\n",
       "      <th>20</th>\n",
       "      <td>2014</td>\n",
       "      <td>소형</td>\n",
       "      <td>15.0</td>\n",
       "      <td>100</td>\n",
       "      <td>13.6</td>\n",
       "      <td>가솔린</td>\n",
       "      <td>0</td>\n",
       "      <td>1368</td>\n",
       "      <td>1035</td>\n",
       "      <td>수동</td>\n",
       "    </tr>\n",
       "    <tr>\n",
       "      <th>21</th>\n",
       "      <td>2015</td>\n",
       "      <td>준중형</td>\n",
       "      <td>13.0</td>\n",
       "      <td>140</td>\n",
       "      <td>17.0</td>\n",
       "      <td>가솔린</td>\n",
       "      <td>0</td>\n",
       "      <td>1591</td>\n",
       "      <td>1225</td>\n",
       "      <td>수동</td>\n",
       "    </tr>\n",
       "    <tr>\n",
       "      <th>22</th>\n",
       "      <td>2015</td>\n",
       "      <td>대형</td>\n",
       "      <td>7.4</td>\n",
       "      <td>416</td>\n",
       "      <td>52.0</td>\n",
       "      <td>가솔린</td>\n",
       "      <td>0</td>\n",
       "      <td>5038</td>\n",
       "      <td>2145</td>\n",
       "      <td>자동</td>\n",
       "    </tr>\n",
       "    <tr>\n",
       "      <th>23</th>\n",
       "      <td>2015</td>\n",
       "      <td>준중형</td>\n",
       "      <td>11.8</td>\n",
       "      <td>172</td>\n",
       "      <td>21.0</td>\n",
       "      <td>가솔린</td>\n",
       "      <td>0</td>\n",
       "      <td>1999</td>\n",
       "      <td>1325</td>\n",
       "      <td>자동</td>\n",
       "    </tr>\n",
       "    <tr>\n",
       "      <th>24</th>\n",
       "      <td>2015</td>\n",
       "      <td>준중형</td>\n",
       "      <td>12.4</td>\n",
       "      <td>215</td>\n",
       "      <td>21.3</td>\n",
       "      <td>가솔린</td>\n",
       "      <td>0</td>\n",
       "      <td>1999</td>\n",
       "      <td>1216</td>\n",
       "      <td>자동</td>\n",
       "    </tr>\n",
       "    <tr>\n",
       "      <th>25</th>\n",
       "      <td>2015</td>\n",
       "      <td>준중형</td>\n",
       "      <td>14.0</td>\n",
       "      <td>140</td>\n",
       "      <td>17.0</td>\n",
       "      <td>가솔린</td>\n",
       "      <td>0</td>\n",
       "      <td>1591</td>\n",
       "      <td>1210</td>\n",
       "      <td>자동</td>\n",
       "    </tr>\n",
       "    <tr>\n",
       "      <th>26</th>\n",
       "      <td>2015</td>\n",
       "      <td>대형</td>\n",
       "      <td>8.9</td>\n",
       "      <td>334</td>\n",
       "      <td>40.3</td>\n",
       "      <td>가솔린</td>\n",
       "      <td>0</td>\n",
       "      <td>3778</td>\n",
       "      <td>1915</td>\n",
       "      <td>자동</td>\n",
       "    </tr>\n",
       "    <tr>\n",
       "      <th>27</th>\n",
       "      <td>2015</td>\n",
       "      <td>대형</td>\n",
       "      <td>8.7</td>\n",
       "      <td>175</td>\n",
       "      <td>46.0</td>\n",
       "      <td>디젤</td>\n",
       "      <td>0</td>\n",
       "      <td>2497</td>\n",
       "      <td>2383</td>\n",
       "      <td>수동</td>\n",
       "    </tr>\n",
       "    <tr>\n",
       "      <th>28</th>\n",
       "      <td>2015</td>\n",
       "      <td>대형</td>\n",
       "      <td>9.6</td>\n",
       "      <td>175</td>\n",
       "      <td>46.0</td>\n",
       "      <td>디젤</td>\n",
       "      <td>0</td>\n",
       "      <td>2497</td>\n",
       "      <td>1990</td>\n",
       "      <td>자동</td>\n",
       "    </tr>\n",
       "    <tr>\n",
       "      <th>29</th>\n",
       "      <td>2010</td>\n",
       "      <td>소형</td>\n",
       "      <td>13.0</td>\n",
       "      <td>95</td>\n",
       "      <td>12.7</td>\n",
       "      <td>가솔린</td>\n",
       "      <td>0</td>\n",
       "      <td>1399</td>\n",
       "      <td>1046</td>\n",
       "      <td>자동</td>\n",
       "    </tr>\n",
       "    <tr>\n",
       "      <th>30</th>\n",
       "      <td>2015</td>\n",
       "      <td>중형</td>\n",
       "      <td>14.8</td>\n",
       "      <td>200</td>\n",
       "      <td>43.0</td>\n",
       "      <td>디젤</td>\n",
       "      <td>0</td>\n",
       "      <td>2199</td>\n",
       "      <td>1760</td>\n",
       "      <td>수동</td>\n",
       "    </tr>\n",
       "  </tbody>\n",
       "</table>\n",
       "</div>"
      ],
      "text/plain": [
       "      년식   종류    연비   마력    토크   연료  하이브리드   배기량    중량 변속기\n",
       "0   2015   대형   6.8  159  23.0  LPG      0  2359  1935  수동\n",
       "1   2012   소형  13.3  108  13.9  가솔린      0  1396  1035  자동\n",
       "2   2015   중형  14.4  184  41.0   디젤      0  1995  1792  자동\n",
       "3   2015   대형  10.9  175  46.0   디젤      0  2497  2210  수동\n",
       "4   2015   대형   6.4  159  23.0  LPG      0  2359  1935  자동\n",
       "5   2015   소형  18.0  136  30.6   디젤      0  1582  1160  자동\n",
       "6   2015  준중형  13.9  184  41.0   디젤      0  1995  1611  수동\n",
       "7   2015   대형   8.9  133  26.5   디젤      0  2497  1696  수동\n",
       "8   2015  준중형  12.5  184  41.0   디젤      0  1995  1611  자동\n",
       "9   2015  준중형  12.8  215  21.3  가솔린      0  1999  1216  수동\n",
       "10  2015   중형  11.6  168  20.5  가솔린      0  1999  1460  자동\n",
       "11  2015   중형   8.9  290  34.8  가솔린      0  3342  1832  자동\n",
       "12  2015   소형  18.0  136  30.6   디젤      0  1582  1190  자동\n",
       "13  2015  준중형  16.2  128  28.5   디젤      0  1582  1305  자동\n",
       "14  2015   대형   8.6  282  35.4  가솔린      0  3342  1970  자동\n",
       "15  2015   소형  19.0  136  30.6   디젤      0  1582  1190  수동\n",
       "16  2015  준중형  14.4  184  41.0   디젤      0  1995  1548  수동\n",
       "17  2015   소형  14.1  100  13.6  가솔린      0  1368  1035  자동\n",
       "18  2014   소형  14.1  100  13.6  가솔린      0  1368  1035  자동\n",
       "19  2015  준중형  12.4  204  27.0  가솔린      0  1591  1300  수동\n",
       "20  2014   소형  15.0  100  13.6  가솔린      0  1368  1035  수동\n",
       "21  2015  준중형  13.0  140  17.0  가솔린      0  1591  1225  수동\n",
       "22  2015   대형   7.4  416  52.0  가솔린      0  5038  2145  자동\n",
       "23  2015  준중형  11.8  172  21.0  가솔린      0  1999  1325  자동\n",
       "24  2015  준중형  12.4  215  21.3  가솔린      0  1999  1216  자동\n",
       "25  2015  준중형  14.0  140  17.0  가솔린      0  1591  1210  자동\n",
       "26  2015   대형   8.9  334  40.3  가솔린      0  3778  1915  자동\n",
       "27  2015   대형   8.7  175  46.0   디젤      0  2497  2383  수동\n",
       "28  2015   대형   9.6  175  46.0   디젤      0  2497  1990  자동\n",
       "29  2010   소형  13.0   95  12.7  가솔린      0  1399  1046  자동\n",
       "30  2015   중형  14.8  200  43.0   디젤      0  2199  1760  수동"
      ]
     },
     "execution_count": 7,
     "metadata": {},
     "output_type": "execute_result"
    }
   ],
   "source": [
    "x_test"
   ]
  },
  {
   "cell_type": "code",
   "execution_count": 8,
   "id": "08ae3041",
   "metadata": {},
   "outputs": [
    {
     "data": {
      "text/plain": [
       "0     1885\n",
       "1     2190\n",
       "2     1135\n",
       "3     1645\n",
       "4     1960\n",
       "      ... \n",
       "66    3802\n",
       "67    1270\n",
       "68    2430\n",
       "69    2870\n",
       "70    3254\n",
       "Name: 가격, Length: 71, dtype: int64"
      ]
     },
     "execution_count": 8,
     "metadata": {},
     "output_type": "execute_result"
    }
   ],
   "source": [
    "y_train"
   ]
  },
  {
   "cell_type": "code",
   "execution_count": 9,
   "id": "7d523e30",
   "metadata": {},
   "outputs": [
    {
     "data": {
      "text/plain": [
       "0      1915\n",
       "1      1164\n",
       "2      2817\n",
       "3      2160\n",
       "4      1915\n",
       "5      1560\n",
       "6      2260\n",
       "7      1430\n",
       "8      2260\n",
       "9      1690\n",
       "10     2255\n",
       "11     3590\n",
       "12     1445\n",
       "13     1610\n",
       "14     4897\n",
       "15     1445\n",
       "16     2080\n",
       "17     1135\n",
       "18     1111\n",
       "19     2190\n",
       "20     1111\n",
       "21     1845\n",
       "22    14570\n",
       "23     1890\n",
       "24     1690\n",
       "25     1410\n",
       "26     6910\n",
       "27     2545\n",
       "28     1960\n",
       "29      870\n",
       "30     2879\n",
       "Name: 가격, dtype: int64"
      ]
     },
     "execution_count": 9,
     "metadata": {},
     "output_type": "execute_result"
    }
   ],
   "source": [
    "y_test"
   ]
  },
  {
   "cell_type": "code",
   "execution_count": 10,
   "id": "d426791e",
   "metadata": {},
   "outputs": [],
   "source": [
    "transformer = make_column_transformer((OneHotEncoder(),['종류','연료','변속기']))"
   ]
  },
  {
   "cell_type": "code",
   "execution_count": 11,
   "id": "5347d733",
   "metadata": {},
   "outputs": [
    {
     "data": {
      "text/plain": [
       "ColumnTransformer(transformers=[('onehotencoder', OneHotEncoder(),\n",
       "                                 ['종류', '연료', '변속기'])])"
      ]
     },
     "execution_count": 11,
     "metadata": {},
     "output_type": "execute_result"
    }
   ],
   "source": [
    "transformer.fit(x_train)"
   ]
  },
  {
   "cell_type": "code",
   "execution_count": 12,
   "id": "05a6599f",
   "metadata": {},
   "outputs": [],
   "source": [
    "x_train = transformer.transform(x_train)\n",
    "x_test = transformer.transform(x_test)"
   ]
  },
  {
   "cell_type": "markdown",
   "id": "18345fc8",
   "metadata": {},
   "source": [
    "### 모델 생성"
   ]
  },
  {
   "cell_type": "markdown",
   "id": "a2f7b008",
   "metadata": {},
   "source": [
    "##### randomforest"
   ]
  },
  {
   "cell_type": "code",
   "execution_count": 19,
   "id": "44d2b83a",
   "metadata": {},
   "outputs": [
    {
     "data": {
      "text/plain": [
       "0.6018618365961833"
      ]
     },
     "execution_count": 19,
     "metadata": {},
     "output_type": "execute_result"
    }
   ],
   "source": [
    "rf = RandomForestRegressor(max_depth=7)\n",
    "#모델 학습\n",
    "rf.fit(x_train, y_train)\n",
    "#정확도\n",
    "rf.score(x_train, y_train)"
   ]
  },
  {
   "cell_type": "code",
   "execution_count": 20,
   "id": "f5377a4e",
   "metadata": {},
   "outputs": [
    {
     "data": {
      "text/plain": [
       "0.4993132944745924"
      ]
     },
     "execution_count": 20,
     "metadata": {},
     "output_type": "execute_result"
    }
   ],
   "source": [
    "rf.score(x_test, y_test)"
   ]
  },
  {
   "cell_type": "code",
   "execution_count": 22,
   "id": "ebb368ca",
   "metadata": {},
   "outputs": [],
   "source": [
    "new_test = [[2015, '중형', 6.7, 160, 24, 'LPG', 0, 2500, 2000, '수동']]\n",
    "new_test = pd.DataFrame(new_test, columns = ['년식','종류','연비','마력','토크','연료','하이브리드','배기량','중량','변속기'])"
   ]
  },
  {
   "cell_type": "code",
   "execution_count": 23,
   "id": "6910d995",
   "metadata": {},
   "outputs": [],
   "source": [
    "new_test = transformer.transform(new_test)"
   ]
  },
  {
   "cell_type": "code",
   "execution_count": 24,
   "id": "900f718f",
   "metadata": {},
   "outputs": [],
   "source": [
    "y_predict = rf.predict(new_test)"
   ]
  },
  {
   "cell_type": "code",
   "execution_count": 25,
   "id": "68758cc5",
   "metadata": {},
   "outputs": [
    {
     "name": "stdout",
     "output_type": "stream",
     "text": [
      "[2817.11688095]\n"
     ]
    }
   ],
   "source": [
    "print(y_predict)"
   ]
  },
  {
   "cell_type": "markdown",
   "id": "79593e3f",
   "metadata": {},
   "source": [
    "##### ada boost"
   ]
  },
  {
   "cell_type": "code",
   "execution_count": 51,
   "id": "40f3a3df",
   "metadata": {},
   "outputs": [],
   "source": [
    "from sklearn.ensemble import AdaBoostRegressor"
   ]
  },
  {
   "cell_type": "code",
   "execution_count": 52,
   "id": "83d6b659",
   "metadata": {},
   "outputs": [
    {
     "data": {
      "text/plain": [
       "0.5793824347195714"
      ]
     },
     "execution_count": 52,
     "metadata": {},
     "output_type": "execute_result"
    }
   ],
   "source": [
    "# 모델 생성\n",
    "ada = AdaBoostRegressor()\n",
    "# 모델 학습\n",
    "ada.fit(x_train, y_train)\n",
    "# 모델 스코어 - 학습데이터, 데스트데이터\n",
    "ada.score(x_train, y_train)"
   ]
  },
  {
   "cell_type": "code",
   "execution_count": 53,
   "id": "1d550861",
   "metadata": {},
   "outputs": [
    {
     "data": {
      "text/plain": [
       "0.5347676811084663"
      ]
     },
     "execution_count": 53,
     "metadata": {},
     "output_type": "execute_result"
    }
   ],
   "source": [
    "ada.score(x_test, y_test)"
   ]
  },
  {
   "cell_type": "code",
   "execution_count": 54,
   "id": "33c21f6b",
   "metadata": {},
   "outputs": [
    {
     "data": {
      "text/plain": [
       "array([3091.])"
      ]
     },
     "execution_count": 54,
     "metadata": {},
     "output_type": "execute_result"
    }
   ],
   "source": [
    "# new_test 예측\n",
    "ada.predict(new_test) #randomforest 예측값과 크게 차이나지 않음"
   ]
  },
  {
   "cell_type": "markdown",
   "id": "f6e0bff2",
   "metadata": {},
   "source": [
    "##### gradient boosting"
   ]
  },
  {
   "cell_type": "code",
   "execution_count": 56,
   "id": "e4cc56de",
   "metadata": {},
   "outputs": [],
   "source": [
    "from sklearn.ensemble import GradientBoostingRegressor"
   ]
  },
  {
   "cell_type": "code",
   "execution_count": 57,
   "id": "e426a9d1",
   "metadata": {},
   "outputs": [],
   "source": [
    "gb = GradientBoostingRegressor()"
   ]
  },
  {
   "cell_type": "code",
   "execution_count": 58,
   "id": "7031264a",
   "metadata": {},
   "outputs": [
    {
     "data": {
      "text/plain": [
       "GradientBoostingRegressor()"
      ]
     },
     "execution_count": 58,
     "metadata": {},
     "output_type": "execute_result"
    }
   ],
   "source": [
    "gb.fit(x_train, y_train)"
   ]
  },
  {
   "cell_type": "code",
   "execution_count": 59,
   "id": "c41f4355",
   "metadata": {},
   "outputs": [
    {
     "data": {
      "text/plain": [
       "0.6032349753137957"
      ]
     },
     "execution_count": 59,
     "metadata": {},
     "output_type": "execute_result"
    }
   ],
   "source": [
    "gb.score(x_train, y_train)"
   ]
  },
  {
   "cell_type": "code",
   "execution_count": 60,
   "id": "bd8fe731",
   "metadata": {},
   "outputs": [
    {
     "data": {
      "text/plain": [
       "0.4849660422367216"
      ]
     },
     "execution_count": 60,
     "metadata": {},
     "output_type": "execute_result"
    }
   ],
   "source": [
    "gb.score(x_test, y_test)"
   ]
  },
  {
   "cell_type": "code",
   "execution_count": 61,
   "id": "234cd9fa",
   "metadata": {},
   "outputs": [
    {
     "data": {
      "text/plain": [
       "array([2992.40880391])"
      ]
     },
     "execution_count": 61,
     "metadata": {},
     "output_type": "execute_result"
    }
   ],
   "source": [
    "gb.predict(new_test) #위 모델들의 예측값과 비슷"
   ]
  },
  {
   "cell_type": "markdown",
   "id": "5a10a7d7",
   "metadata": {},
   "source": [
    "##### xgboost"
   ]
  },
  {
   "cell_type": "code",
   "execution_count": 62,
   "id": "499c9b9f",
   "metadata": {},
   "outputs": [],
   "source": [
    "import xgboost as xgb"
   ]
  },
  {
   "cell_type": "code",
   "execution_count": 63,
   "id": "107585d9",
   "metadata": {},
   "outputs": [],
   "source": [
    "xgb = xgb.XGBRegressor()"
   ]
  },
  {
   "cell_type": "code",
   "execution_count": 65,
   "id": "b1bf9a7d",
   "metadata": {
    "scrolled": true
   },
   "outputs": [
    {
     "data": {
      "text/plain": [
       "XGBRegressor(base_score=0.5, booster='gbtree', callbacks=None,\n",
       "             colsample_bylevel=1, colsample_bynode=1, colsample_bytree=1,\n",
       "             early_stopping_rounds=None, enable_categorical=False,\n",
       "             eval_metric=None, gamma=0, gpu_id=-1, grow_policy='depthwise',\n",
       "             importance_type=None, interaction_constraints='',\n",
       "             learning_rate=0.300000012, max_bin=256, max_cat_to_onehot=4,\n",
       "             max_delta_step=0, max_depth=6, max_leaves=0, min_child_weight=1,\n",
       "             missing=nan, monotone_constraints='()', n_estimators=100, n_jobs=0,\n",
       "             num_parallel_tree=1, predictor='auto', random_state=0, reg_alpha=0,\n",
       "             reg_lambda=1, ...)"
      ]
     },
     "execution_count": 65,
     "metadata": {},
     "output_type": "execute_result"
    }
   ],
   "source": [
    "xgb.fit(x_train, y_train)"
   ]
  },
  {
   "cell_type": "code",
   "execution_count": 66,
   "id": "cfc7eead",
   "metadata": {
    "scrolled": true
   },
   "outputs": [
    {
     "data": {
      "text/plain": [
       "0.6032527591199182"
      ]
     },
     "execution_count": 66,
     "metadata": {},
     "output_type": "execute_result"
    }
   ],
   "source": [
    "xgb.score(x_train, y_train)"
   ]
  },
  {
   "cell_type": "code",
   "execution_count": 67,
   "id": "dd821897",
   "metadata": {
    "scrolled": true
   },
   "outputs": [
    {
     "data": {
      "text/plain": [
       "0.4850809005658747"
      ]
     },
     "execution_count": 67,
     "metadata": {},
     "output_type": "execute_result"
    }
   ],
   "source": [
    "xgb.score(x_test, y_test)"
   ]
  },
  {
   "cell_type": "code",
   "execution_count": 72,
   "id": "e1aba21d",
   "metadata": {},
   "outputs": [
    {
     "data": {
      "text/plain": [
       "array([2687.1926], dtype=float32)"
      ]
     },
     "execution_count": 72,
     "metadata": {},
     "output_type": "execute_result"
    }
   ],
   "source": [
    "xgb.predict(new_test) #위 모델들의 예측값과 비슷"
   ]
  },
  {
   "cell_type": "markdown",
   "id": "9c0930a8",
   "metadata": {},
   "source": [
    "##### lightGBM"
   ]
  },
  {
   "cell_type": "code",
   "execution_count": 64,
   "id": "ba5ae95d",
   "metadata": {},
   "outputs": [],
   "source": [
    "from lightgbm import LGBMRegressor"
   ]
  },
  {
   "cell_type": "code",
   "execution_count": 68,
   "id": "6b60edf7",
   "metadata": {},
   "outputs": [],
   "source": [
    "lgb = LGBMRegressor()"
   ]
  },
  {
   "cell_type": "code",
   "execution_count": 69,
   "id": "2e4b8921",
   "metadata": {},
   "outputs": [
    {
     "data": {
      "text/plain": [
       "LGBMRegressor()"
      ]
     },
     "execution_count": 69,
     "metadata": {},
     "output_type": "execute_result"
    }
   ],
   "source": [
    "lgb.fit(x_train, y_train)"
   ]
  },
  {
   "cell_type": "code",
   "execution_count": 70,
   "id": "a9ce2037",
   "metadata": {},
   "outputs": [
    {
     "data": {
      "text/plain": [
       "0.26803621675337663"
      ]
     },
     "execution_count": 70,
     "metadata": {},
     "output_type": "execute_result"
    }
   ],
   "source": [
    "lgb.score(x_train, y_train)"
   ]
  },
  {
   "cell_type": "code",
   "execution_count": 71,
   "id": "12894ccd",
   "metadata": {},
   "outputs": [
    {
     "data": {
      "text/plain": [
       "0.19121671328898493"
      ]
     },
     "execution_count": 71,
     "metadata": {},
     "output_type": "execute_result"
    }
   ],
   "source": [
    "lgb.score(x_test, y_test)"
   ]
  },
  {
   "cell_type": "code",
   "execution_count": 73,
   "id": "77bebbd5",
   "metadata": {},
   "outputs": [
    {
     "data": {
      "text/plain": [
       "array([1195.89195875])"
      ]
     },
     "execution_count": 73,
     "metadata": {},
     "output_type": "execute_result"
    }
   ],
   "source": [
    "lgb.predict(new_test) #위 모델들의 예측값과 비슷하지 않음"
   ]
  },
  {
   "cell_type": "code",
   "execution_count": null,
   "id": "867e26ab",
   "metadata": {},
   "outputs": [],
   "source": []
  }
 ],
 "metadata": {
  "kernelspec": {
   "display_name": "Python 3 (ipykernel)",
   "language": "python",
   "name": "python3"
  },
  "language_info": {
   "codemirror_mode": {
    "name": "ipython",
    "version": 3
   },
   "file_extension": ".py",
   "mimetype": "text/x-python",
   "name": "python",
   "nbconvert_exporter": "python",
   "pygments_lexer": "ipython3",
   "version": "3.9.12"
  }
 },
 "nbformat": 4,
 "nbformat_minor": 5
}

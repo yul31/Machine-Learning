{
 "cells": [
  {
   "cell_type": "markdown",
   "id": "6d899cff",
   "metadata": {},
   "source": [
    "### 1. 문제 정의\n",
    "- iris 데이터에 scaler를 적용해서 모델을 학습해보자"
   ]
  },
  {
   "cell_type": "markdown",
   "id": "55070a66",
   "metadata": {},
   "source": [
    "### 2. 데이터 수집"
   ]
  },
  {
   "cell_type": "code",
   "execution_count": 1,
   "id": "4bd091ac",
   "metadata": {},
   "outputs": [],
   "source": [
    "from sklearn.datasets import load_iris\n",
    "from sklearn.model_selection import train_test_split"
   ]
  },
  {
   "cell_type": "code",
   "execution_count": null,
   "id": "0e4e6163",
   "metadata": {},
   "outputs": [],
   "source": [
    "# x,y 데이터 정의"
   ]
  },
  {
   "cell_type": "markdown",
   "id": "53396d8d",
   "metadata": {},
   "source": [
    "### 3. Scaler 적용 - 4가지 종류 모두"
   ]
  },
  {
   "cell_type": "markdown",
   "id": "028519ec",
   "metadata": {},
   "source": [
    "### 4. train-test 데이터셋 분할"
   ]
  },
  {
   "cell_type": "markdown",
   "id": "05bf10ff",
   "metadata": {},
   "source": [
    "### 5. 모델링(모델선택, 모델학습, 모델평가) - 4가지 Scaler 모두 모델 만들어 보기"
   ]
  },
  {
   "cell_type": "markdown",
   "id": "f347ea1f",
   "metadata": {},
   "source": [
    "### 6. accuracy 다 뽑아보기"
   ]
  },
  {
   "cell_type": "code",
   "execution_count": null,
   "id": "e2a384b8",
   "metadata": {},
   "outputs": [],
   "source": []
  }
 ],
 "metadata": {
  "kernelspec": {
   "display_name": "Python 3 (ipykernel)",
   "language": "python",
   "name": "python3"
  },
  "language_info": {
   "codemirror_mode": {
    "name": "ipython",
    "version": 3
   },
   "file_extension": ".py",
   "mimetype": "text/x-python",
   "name": "python",
   "nbconvert_exporter": "python",
   "pygments_lexer": "ipython3",
   "version": "3.9.12"
  }
 },
 "nbformat": 4,
 "nbformat_minor": 5
}

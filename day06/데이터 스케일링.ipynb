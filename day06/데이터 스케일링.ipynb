{
 "cells": [
  {
   "cell_type": "code",
   "execution_count": 1,
   "id": "7cc15cce",
   "metadata": {},
   "outputs": [],
   "source": [
    "from sklearn.datasets import load_breast_cancer\n",
    "from sklearn.model_selection import train_test_split"
   ]
  },
  {
   "cell_type": "code",
   "execution_count": 3,
   "id": "e65774af",
   "metadata": {},
   "outputs": [],
   "source": [
    "cancer = load_breast_cancer()\n",
    "x_train, x_test, y_train, y_test = train_test_split(cancer.data, cancer.target, random_state=1234)"
   ]
  },
  {
   "cell_type": "markdown",
   "id": "17ef214e",
   "metadata": {},
   "source": [
    "### Standard Scaler\n",
    "- 각 feature들의 평균을 0, 분산은 1로 변경\n",
    "- 모든 특성들이 같은 스케일을 갖게 됨"
   ]
  },
  {
   "cell_type": "code",
   "execution_count": 4,
   "id": "481bc808",
   "metadata": {},
   "outputs": [],
   "source": [
    "from sklearn.preprocessing import StandardScaler"
   ]
  },
  {
   "cell_type": "code",
   "execution_count": 5,
   "id": "2262e4be",
   "metadata": {},
   "outputs": [],
   "source": [
    "ss = StandardScaler()\n",
    "x_train_ss = ss.fit_transform(x_train)"
   ]
  },
  {
   "cell_type": "code",
   "execution_count": 6,
   "id": "2320e1de",
   "metadata": {},
   "outputs": [
    {
     "name": "stdout",
     "output_type": "stream",
     "text": [
      "스케일 조정 전 min value: [6.981e+00 1.038e+01 4.379e+01 1.435e+02 5.263e-02 1.938e-02 0.000e+00\n",
      " 0.000e+00 1.060e-01 4.996e-02 1.115e-01 3.602e-01 7.570e-01 7.228e+00\n",
      " 2.838e-03 2.252e-03 0.000e+00 0.000e+00 7.882e-03 8.948e-04 7.930e+00\n",
      " 1.249e+01 5.041e+01 1.852e+02 8.125e-02 3.432e-02 0.000e+00 0.000e+00\n",
      " 1.565e-01 5.504e-02]\n",
      "스케일 조정 전 max value: [2.811e+01 3.381e+01 1.885e+02 2.499e+03 1.447e-01 3.114e-01 4.268e-01\n",
      " 2.012e-01 3.040e-01 9.744e-02 2.873e+00 3.896e+00 2.198e+01 5.256e+02\n",
      " 3.113e-02 1.354e-01 3.960e-01 5.279e-02 6.146e-02 2.984e-02 3.313e+01\n",
      " 4.954e+01 2.293e+02 3.234e+03 2.226e-01 1.058e+00 1.252e+00 2.910e-01\n",
      " 6.638e-01 2.075e-01]\n",
      "스케일 조정 후 min value: [-2.05959418 -2.06007032 -2.01803061 -1.47906849 -3.11840193 -1.61914251\n",
      " -1.12209848 -1.26938777 -2.78192834 -1.81018812 -1.07589572 -1.56507334\n",
      " -1.05735035 -0.77526135 -1.37519266 -1.27269316 -1.00981927 -1.8540401\n",
      " -1.58069217 -1.08204572 -1.75802372 -2.12998626 -1.72206377 -1.25531716\n",
      " -2.2407888  -1.36335806 -1.2896095  -1.75499271 -2.19557829 -1.54350637]\n",
      "스케일 조정 후 max value: [ 3.983046    3.35284486  3.99659366  5.2755639   3.42419492  3.94256298\n",
      "  4.20261238  3.91312864  4.51510874  4.92100768  9.00399628  4.83781834\n",
      "  9.51423902 11.3763671   7.75293988  5.98025485 11.36998328  6.44619355\n",
      "  5.1657793   9.67511962  3.51968449  3.81326034  3.64761068  4.21809238\n",
      "  3.87029285  4.90322123  4.50512912  2.66376471  6.09134431  6.520511  ]\n"
     ]
    }
   ],
   "source": [
    "print('스케일 조정 전 min value:', x_train.min(axis=0)) #조정 전: 아주 작은 수에서\n",
    "print('스케일 조정 전 max value:', x_train.max(axis=0))\n",
    "print('스케일 조정 후 min value:', x_train_ss.min(axis=0)) #조정 후: 그보다는 큰 수로\n",
    "print('스케일 조정 후 max value:', x_train_ss.max(axis=0))"
   ]
  },
  {
   "cell_type": "markdown",
   "id": "59d01c53",
   "metadata": {},
   "source": [
    "### Robust Scaler\n",
    "- 모든 특성들이 같은 크기를 갖는다는 점에서 standard scaler와 비슷하지만, 평균과 분산 대신 median과 quartile을 사용\n",
    "- robust scaler는 이상치에 영향을 받지 않음"
   ]
  },
  {
   "cell_type": "code",
   "execution_count": 7,
   "id": "60bb2bad",
   "metadata": {},
   "outputs": [],
   "source": [
    "from sklearn.preprocessing import RobustScaler"
   ]
  },
  {
   "cell_type": "code",
   "execution_count": 8,
   "id": "cfe0a016",
   "metadata": {},
   "outputs": [],
   "source": [
    "rs = RobustScaler()\n",
    "x_train_scale = rs.fit_transform(x_train)"
   ]
  },
  {
   "cell_type": "code",
   "execution_count": 9,
   "id": "8455a437",
   "metadata": {},
   "outputs": [
    {
     "name": "stdout",
     "output_type": "stream",
     "text": [
      "스케일 조정 전 min value: [6.981e+00 1.038e+01 4.379e+01 1.435e+02 5.263e-02 1.938e-02 0.000e+00\n",
      " 0.000e+00 1.060e-01 4.996e-02 1.115e-01 3.602e-01 7.570e-01 7.228e+00\n",
      " 2.838e-03 2.252e-03 0.000e+00 0.000e+00 7.882e-03 8.948e-04 7.930e+00\n",
      " 1.249e+01 5.041e+01 1.852e+02 8.125e-02 3.432e-02 0.000e+00 0.000e+00\n",
      " 1.565e-01 5.504e-02]\n",
      "스케일 조정 전 max value: [2.811e+01 3.381e+01 1.885e+02 2.499e+03 1.447e-01 3.114e-01 4.268e-01\n",
      " 2.012e-01 3.040e-01 9.744e-02 2.873e+00 3.896e+00 2.198e+01 5.256e+02\n",
      " 3.113e-02 1.354e-01 3.960e-01 5.279e-02 6.146e-02 2.984e-02 3.313e+01\n",
      " 4.954e+01 2.293e+02 3.234e+03 2.226e-01 1.058e+00 1.252e+00 2.910e-01\n",
      " 6.638e-01 2.075e-01]\n",
      "스케일 조정 후 min value: [-1.52323232 -1.45791972 -1.5151781  -1.1130184  -2.28221021 -1.11380456\n",
      " -0.58652639 -0.63066754 -2.19880419 -1.36804093 -0.83926429 -1.16877816\n",
      " -0.89078985 -0.61672241 -1.24414368 -0.92590898 -0.93494541 -1.54861731\n",
      " -1.38189958 -0.96715574 -1.23415493 -1.45464726 -1.14370424 -0.88014453\n",
      " -1.74412533 -0.94163238 -0.8543761  -1.03141523 -1.93474088 -1.23394269]\n",
      "스케일 조정 후 max value: [ 3.49851456  2.5869659   3.56325671  5.35635814  2.57444283  3.29670745\n",
      "  3.45887538  3.11572479  3.72047833  4.34727656 10.20231907  4.27740768\n",
      " 11.21243228 18.12582482  8.57435364  5.84490211 13.35721375  5.98608385\n",
      "  5.47169811 11.61634605  3.20246479  2.69428891  3.18593816  4.49361065\n",
      "  3.17667537  4.49263437  3.76427188  1.95611108  5.85489443  6.29866601]\n"
     ]
    }
   ],
   "source": [
    "print('스케일 조정 전 min value:', x_train.min(axis=0)) #조정 전: 아주 작은 수에서\n",
    "print('스케일 조정 전 max value:', x_train.max(axis=0))\n",
    "print('스케일 조정 후 min value:', x_train_scale.min(axis=0)) #조정 후: 그보다는 큰 수로\n",
    "print('스케일 조정 후 max value:', x_train_scale.max(axis=0))"
   ]
  },
  {
   "cell_type": "markdown",
   "id": "581822b6",
   "metadata": {},
   "source": [
    "### MinMaxScaler\n",
    "- 모든 feature가 0과 1 사이에 위치하게 만듦\n",
    "- 데이터가 2차원 셋일 경우, 모든 데이터는 x축의 0과 1 사이에, y축의 0과 1 사이에 위치하게 됨"
   ]
  },
  {
   "cell_type": "code",
   "execution_count": 10,
   "id": "38491df4",
   "metadata": {},
   "outputs": [],
   "source": [
    "from sklearn.preprocessing import MinMaxScaler"
   ]
  },
  {
   "cell_type": "code",
   "execution_count": 12,
   "id": "28189f90",
   "metadata": {},
   "outputs": [],
   "source": [
    "mm = MinMaxScaler()\n",
    "x_train_scale = mm.fit_transform(x_train)"
   ]
  },
  {
   "cell_type": "code",
   "execution_count": 13,
   "id": "c06b43c8",
   "metadata": {},
   "outputs": [
    {
     "name": "stdout",
     "output_type": "stream",
     "text": [
      "스케일 조정 전 min value: [6.981e+00 1.038e+01 4.379e+01 1.435e+02 5.263e-02 1.938e-02 0.000e+00\n",
      " 0.000e+00 1.060e-01 4.996e-02 1.115e-01 3.602e-01 7.570e-01 7.228e+00\n",
      " 2.838e-03 2.252e-03 0.000e+00 0.000e+00 7.882e-03 8.948e-04 7.930e+00\n",
      " 1.249e+01 5.041e+01 1.852e+02 8.125e-02 3.432e-02 0.000e+00 0.000e+00\n",
      " 1.565e-01 5.504e-02]\n",
      "스케일 조정 전 max value: [2.811e+01 3.381e+01 1.885e+02 2.499e+03 1.447e-01 3.114e-01 4.268e-01\n",
      " 2.012e-01 3.040e-01 9.744e-02 2.873e+00 3.896e+00 2.198e+01 5.256e+02\n",
      " 3.113e-02 1.354e-01 3.960e-01 5.279e-02 6.146e-02 2.984e-02 3.313e+01\n",
      " 4.954e+01 2.293e+02 3.234e+03 2.226e-01 1.058e+00 1.252e+00 2.910e-01\n",
      " 6.638e-01 2.075e-01]\n",
      "스케일 조정 후 min value: [0. 0. 0. 0. 0. 0. 0. 0. 0. 0. 0. 0. 0. 0. 0. 0. 0. 0. 0. 0. 0. 0. 0. 0.\n",
      " 0. 0. 0. 0. 0. 0.]\n",
      "스케일 조정 후 max value: [1. 1. 1. 1. 1. 1. 1. 1. 1. 1. 1. 1. 1. 1. 1. 1. 1. 1. 1. 1. 1. 1. 1. 1.\n",
      " 1. 1. 1. 1. 1. 1.]\n"
     ]
    }
   ],
   "source": [
    "print('스케일 조정 전 min value:', x_train.min(axis=0)) \n",
    "print('스케일 조정 전 max value:', x_train.max(axis=0))\n",
    "print('스케일 조정 후 min value:', x_train_scale.min(axis=0))\n",
    "print('스케일 조정 후 max value:', x_train_scale.max(axis=0))"
   ]
  },
  {
   "cell_type": "markdown",
   "id": "b7e2d0d8",
   "metadata": {},
   "source": [
    "### Normalizer\n",
    "- standardscaler, robustscaler, minmaxscaler가 각 컬럼의 통계치를 이용한 방법이었다면 normalizer는 각 row마다 각각 정규화\n",
    "- normalizer는 유클리디안 거리가 1이 되도록 데이터를 조정\n",
    "- normalizer를 하면 좀 더 빠르게 학습할 수 있고 과대적합될 확률을 낮출 수 있음"
   ]
  },
  {
   "cell_type": "code",
   "execution_count": 14,
   "id": "660539eb",
   "metadata": {},
   "outputs": [],
   "source": [
    "from sklearn.preprocessing import Normalizer"
   ]
  },
  {
   "cell_type": "code",
   "execution_count": 17,
   "id": "319bf8f2",
   "metadata": {},
   "outputs": [],
   "source": [
    "normal = Normalizer()\n",
    "x_train_scale = normal.fit_transform(x_train)\n",
    "x_test_scale = normal.transform(x_test)"
   ]
  },
  {
   "cell_type": "code",
   "execution_count": 18,
   "id": "aff781d6",
   "metadata": {},
   "outputs": [],
   "source": [
    "from sklearn.svm import SVC"
   ]
  },
  {
   "cell_type": "code",
   "execution_count": 19,
   "id": "600ad439",
   "metadata": {},
   "outputs": [
    {
     "data": {
      "text/plain": [
       "SVC()"
      ]
     },
     "execution_count": 19,
     "metadata": {},
     "output_type": "execute_result"
    }
   ],
   "source": [
    "svc = SVC()\n",
    "svc.fit(x_train_scale, y_train)"
   ]
  },
  {
   "cell_type": "code",
   "execution_count": 20,
   "id": "14594175",
   "metadata": {},
   "outputs": [
    {
     "name": "stdout",
     "output_type": "stream",
     "text": [
      "test 정확도: 0.8811188811188811\n"
     ]
    }
   ],
   "source": [
    "print('test 정확도:', svc.score(x_test_scale, y_test))"
   ]
  },
  {
   "cell_type": "code",
   "execution_count": 21,
   "id": "80b01d85",
   "metadata": {},
   "outputs": [
    {
     "data": {
      "text/plain": [
       "SVC()"
      ]
     },
     "execution_count": 21,
     "metadata": {},
     "output_type": "execute_result"
    }
   ],
   "source": [
    "svc = SVC()\n",
    "svc.fit(x_train, y_train)"
   ]
  },
  {
   "cell_type": "code",
   "execution_count": 23,
   "id": "f14e9c09",
   "metadata": {},
   "outputs": [
    {
     "name": "stdout",
     "output_type": "stream",
     "text": [
      "test 정확도: 0.9154929577464789\n"
     ]
    }
   ],
   "source": [
    "print('test 정확도:', svc.score(x_train, y_train))"
   ]
  },
  {
   "cell_type": "code",
   "execution_count": 24,
   "id": "656620b7",
   "metadata": {},
   "outputs": [
    {
     "name": "stdout",
     "output_type": "stream",
     "text": [
      "test 정확도: 0.916083916083916\n"
     ]
    }
   ],
   "source": [
    "print('test 정확도:', svc.score(x_test, y_test))"
   ]
  },
  {
   "cell_type": "code",
   "execution_count": null,
   "id": "b55debd9",
   "metadata": {},
   "outputs": [],
   "source": []
  },
  {
   "cell_type": "code",
   "execution_count": 16,
   "id": "4b3b8ae0",
   "metadata": {},
   "outputs": [
    {
     "name": "stdout",
     "output_type": "stream",
     "text": [
      "스케일 조정 전 min value: [6.981e+00 1.038e+01 4.379e+01 1.435e+02 5.263e-02 1.938e-02 0.000e+00\n",
      " 0.000e+00 1.060e-01 4.996e-02 1.115e-01 3.602e-01 7.570e-01 7.228e+00\n",
      " 2.838e-03 2.252e-03 0.000e+00 0.000e+00 7.882e-03 8.948e-04 7.930e+00\n",
      " 1.249e+01 5.041e+01 1.852e+02 8.125e-02 3.432e-02 0.000e+00 0.000e+00\n",
      " 1.565e-01 5.504e-02]\n",
      "스케일 조정 전 max value: [2.811e+01 3.381e+01 1.885e+02 2.499e+03 1.447e-01 3.114e-01 4.268e-01\n",
      " 2.012e-01 3.040e-01 9.744e-02 2.873e+00 3.896e+00 2.198e+01 5.256e+02\n",
      " 3.113e-02 1.354e-01 3.960e-01 5.279e-02 6.146e-02 2.984e-02 3.313e+01\n",
      " 4.954e+01 2.293e+02 3.234e+03 2.226e-01 1.058e+00 1.252e+00 2.910e-01\n",
      " 6.638e-01 2.075e-01]\n",
      "스케일 조정 후 min value: [6.16997567e-03 4.56825580e-03 4.00437389e-02 3.76233264e-01\n",
      " 2.66693006e-05 2.37805701e-05 0.00000000e+00 0.00000000e+00\n",
      " 4.57096286e-05 1.43634533e-05 1.38230416e-04 2.22630519e-04\n",
      " 8.95949678e-04 1.14342671e-02 1.17600717e-06 2.76335624e-06\n",
      " 0.00000000e+00 0.00000000e+00 3.33747542e-06 5.12412074e-07\n",
      " 7.84471206e-03 5.15445862e-03 5.26050595e-02 6.96047105e-01\n",
      " 3.18700148e-05 4.21129601e-05 0.00000000e+00 0.00000000e+00\n",
      " 4.59910547e-05 1.54187243e-05]\n",
      "스케일 조정 후 max value: [2.84700680e-02 8.01402547e-02 1.78585343e-01 6.97400762e-01\n",
      " 4.77151978e-04 5.03168358e-04 8.25977854e-04 1.60675994e-04\n",
      " 7.87096852e-04 3.18835398e-04 1.65778661e-03 8.22310094e-03\n",
      " 9.48021244e-03 1.46680208e-01 6.14437683e-05 2.04414230e-04\n",
      " 7.96220132e-04 1.06142578e-04 1.81992000e-04 5.99980019e-05\n",
      " 3.23403007e-02 9.72121097e-02 2.05583173e-01 9.21243290e-01\n",
      " 6.45990370e-04 1.47441480e-03 2.97381613e-03 4.15669188e-04\n",
      " 1.19573470e-03 4.44506641e-04]\n"
     ]
    }
   ],
   "source": [
    "print('스케일 조정 전 min value:', x_train.min(axis=0)) \n",
    "print('스케일 조정 전 max value:', x_train.max(axis=0))\n",
    "print('스케일 조정 후 min value:', x_train_scale.min(axis=0))\n",
    "print('스케일 조정 후 max value:', x_train_scale.max(axis=0))"
   ]
  },
  {
   "cell_type": "markdown",
   "id": "5ed4b8e4",
   "metadata": {},
   "source": [
    "데이터에 적절한 스케일러를 사용하기"
   ]
  },
  {
   "cell_type": "code",
   "execution_count": null,
   "id": "a6957891",
   "metadata": {},
   "outputs": [],
   "source": []
  }
 ],
 "metadata": {
  "kernelspec": {
   "display_name": "Python 3 (ipykernel)",
   "language": "python",
   "name": "python3"
  },
  "language_info": {
   "codemirror_mode": {
    "name": "ipython",
    "version": 3
   },
   "file_extension": ".py",
   "mimetype": "text/x-python",
   "name": "python",
   "nbconvert_exporter": "python",
   "pygments_lexer": "ipython3",
   "version": "3.9.12"
  }
 },
 "nbformat": 4,
 "nbformat_minor": 5
}

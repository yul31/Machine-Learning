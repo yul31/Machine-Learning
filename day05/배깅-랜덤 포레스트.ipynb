{
 "cells": [
  {
   "cell_type": "markdown",
   "id": "2fc8c423",
   "metadata": {},
   "source": [
    "### 랜덤 포레스트"
   ]
  },
  {
   "cell_type": "markdown",
   "id": "4c94dd7a",
   "metadata": {},
   "source": [
    "- n_estimator: 트리갯수\n",
    "- max_feature: 무작위로 선택할 feature 갯수\n",
    "- max_depth: 트리의 깊이\n",
    "- min_samples_leaf : 리프노드가 최소 몇개의 데이터를 가저야하는지"
   ]
  },
  {
   "cell_type": "code",
   "execution_count": 1,
   "id": "ecc59509",
   "metadata": {},
   "outputs": [],
   "source": [
    "from sklearn.ensemble import RandomForestClassifier\n",
    "from sklearn.model_selection import train_test_split\n",
    "from sklearn.datasets import load_breast_cancer\n",
    "from sklearn.tree import plot_tree\n",
    "import pandas as pd\n",
    "import numpy as np"
   ]
  },
  {
   "cell_type": "code",
   "execution_count": 3,
   "id": "5d3f07b2",
   "metadata": {},
   "outputs": [],
   "source": [
    "import matplotlib.pyplot as plt\n",
    "from matplotlib import rc"
   ]
  },
  {
   "cell_type": "code",
   "execution_count": 4,
   "id": "140f8a5d",
   "metadata": {},
   "outputs": [],
   "source": [
    "cancer = load_breast_cancer()\n",
    "x_train, x_test, y_train, y_test = train_test_split(cancer.data, cancer.target,\n",
    "                                                    random_state=0)"
   ]
  },
  {
   "cell_type": "code",
   "execution_count": 5,
   "id": "84454446",
   "metadata": {},
   "outputs": [
    {
     "data": {
      "text/plain": [
       "RandomForestClassifier(random_state=0)"
      ]
     },
     "execution_count": 5,
     "metadata": {},
     "output_type": "execute_result"
    }
   ],
   "source": [
    "rf = RandomForestClassifier(n_estimators=100, random_state=0)\n",
    "rf.fit(x_train, y_train)"
   ]
  },
  {
   "cell_type": "code",
   "execution_count": 10,
   "id": "d7a8c5d2",
   "metadata": {},
   "outputs": [
    {
     "name": "stdout",
     "output_type": "stream",
     "text": [
      "훈련 세트 정확도 : 1.000\n"
     ]
    }
   ],
   "source": [
    "print('훈련 세트 정확도 : {:.3f}'.format(rf.score(x_train, y_train)))"
   ]
  },
  {
   "cell_type": "code",
   "execution_count": 11,
   "id": "427c033f",
   "metadata": {},
   "outputs": [
    {
     "name": "stdout",
     "output_type": "stream",
     "text": [
      "테스트 세트 정확도 : 0.972\n"
     ]
    }
   ],
   "source": [
    "print('테스트 세트 정확도 : {:.3f}'.format(rf.score(x_test, y_test)))"
   ]
  },
  {
   "cell_type": "code",
   "execution_count": 14,
   "id": "1ce6d3cb",
   "metadata": {},
   "outputs": [],
   "source": [
    "plt.rc('font', family='Malgun Gothic')\n",
    "plt.rcParams['axes.unicode_minus'] = False"
   ]
  },
  {
   "cell_type": "code",
   "execution_count": 15,
   "id": "6ce56167",
   "metadata": {},
   "outputs": [
    {
     "data": {
      "text/plain": [
       "(-1.0, 30.0)"
      ]
     },
     "execution_count": 15,
     "metadata": {},
     "output_type": "execute_result"
    },
    {
     "data": {
      "image/png": "[encoded data removed]",
      "text/plain": [
       "<Figure size 432x288 with 1 Axes>"
      ]
     },
     "metadata": {
      "needs_background": "light"
     },
     "output_type": "display_data"
    }
   ],
   "source": [
    "n_features = cancer.data.shape[1]\n",
    "plt.barh(np.arange(n_features), rf.feature_importances_, align='center')\n",
    "plt.yticks(np.arange(n_features), cancer.feature_names)\n",
    "plt.xlabel('특성중요도')\n",
    "plt.ylabel('특성')\n",
    "plt.ylim(-1, n_features)"
   ]
  },
  {
   "cell_type": "markdown",
   "id": "46851736",
   "metadata": {},
   "source": [
    "### 회귀모델"
   ]
  },
  {
   "cell_type": "code",
   "execution_count": 16,
   "id": "7ef69220",
   "metadata": {},
   "outputs": [],
   "source": [
    "from sklearn.datasets import load_boston\n",
    "from sklearn.model_selection import train_test_split\n",
    "from sklearn.ensemble import RandomForestRegressor"
   ]
  },
  {
   "cell_type": "code",
   "execution_count": 17,
   "id": "66084271",
   "metadata": {},
   "outputs": [],
   "source": [
    "from sklearn.metrics import explained_variance_score\n",
    "from sklearn.metrics import mean_absolute_error\n",
    "from sklearn.metrics import mean_squared_error\n",
    "from sklearn.metrics import r2_score"
   ]
  },
  {
   "cell_type": "code",
   "execution_count": 19,
   "id": "2f8cc91d",
   "metadata": {},
   "outputs": [],
   "source": [
    "boston = load_boston()\n",
    "x_train, x_test, y_train, y_test = train_test_split(boston.data, boston.target, test_size=0.3)"
   ]
  },
  {
   "cell_type": "code",
   "execution_count": 20,
   "id": "f6f5b4a7",
   "metadata": {},
   "outputs": [],
   "source": [
    "rf = RandomForestRegressor(n_estimators = 10, bootstrap=True, criterion = 'mse', max_features='auto')"
   ]
  },
  {
   "cell_type": "code",
   "execution_count": 21,
   "id": "ef66de8f",
   "metadata": {},
   "outputs": [
    {
     "name": "stderr",
     "output_type": "stream",
     "text": [
      "C:\\Users\\user\\anaconda3\\lib\\site-packages\\sklearn\\ensemble\\_forest.py:396: FutureWarning: Criterion 'mse' was deprecated in v1.0 and will be removed in version 1.2. Use `criterion='squared_error'` which is equivalent.\n",
      "  warn(\n"
     ]
    },
    {
     "data": {
      "text/plain": [
       "RandomForestRegressor(criterion='mse', n_estimators=10)"
      ]
     },
     "execution_count": 21,
     "metadata": {},
     "output_type": "execute_result"
    }
   ],
   "source": [
    "rf.fit(x_train, y_train)"
   ]
  },
  {
   "cell_type": "code",
   "execution_count": 22,
   "id": "b61fcdad",
   "metadata": {},
   "outputs": [
    {
     "data": {
      "text/plain": [
       "array([15.54, 20.98, 27.54, 29.75, 20.42, 18.77, 31.55, 20.39, 20.22,\n",
       "       25.66, 21.8 , 15.26, 20.2 , 21.14, 34.42, 31.27, 19.97, 18.14,\n",
       "       20.64, 17.93, 26.44, 17.65, 14.01, 22.75, 18.49, 16.57, 16.7 ,\n",
       "       11.85,  9.4 , 33.07, 12.31, 20.89, 22.1 , 16.13, 23.75, 28.35,\n",
       "       46.79, 18.04, 18.04,  8.44, 19.37, 28.75,  7.62, 19.38, 23.71,\n",
       "       24.97, 20.54, 49.48, 28.94, 45.43, 32.13, 20.9 , 35.67, 19.32,\n",
       "       20.36, 14.09, 40.87, 20.12, 24.02, 25.2 , 25.23, 17.51, 17.71,\n",
       "       28.1 , 18.77,  9.27, 20.1 , 41.32, 24.9 , 31.46, 14.38, 14.76,\n",
       "       39.5 , 17.01, 16.54, 21.75, 32.89, 17.07, 12.  , 11.53, 20.68,\n",
       "       18.7 , 36.3 , 24.47, 11.79,  9.74, 13.14, 15.4 , 15.62, 24.52,\n",
       "       21.14, 27.8 , 24.85,  9.82, 23.56, 19.79, 10.35, 22.72, 13.69,\n",
       "       20.75, 17.77, 19.05, 31.36, 33.16, 32.95, 41.74, 35.24, 22.32,\n",
       "       33.63, 24.07, 20.94, 20.08, 44.  , 12.95, 21.26, 36.04, 19.54,\n",
       "       16.74, 34.52, 17.36, 21.68, 18.17, 21.17, 20.33, 49.31,  9.41,\n",
       "        9.77, 46.22,  9.5 , 31.87, 21.86, 29.87, 16.01, 25.22, 16.86,\n",
       "       23.93, 19.87, 24.9 , 20.78, 33.38, 17.58, 11.51, 34.02, 32.86,\n",
       "       20.24, 32.86, 24.27, 18.94, 14.65, 13.64, 25.15, 12.82])"
      ]
     },
     "execution_count": 22,
     "metadata": {},
     "output_type": "execute_result"
    }
   ],
   "source": [
    "pred = rf.predict(x_test)\n",
    "pred"
   ]
  },
  {
   "cell_type": "code",
   "execution_count": 23,
   "id": "21632287",
   "metadata": {},
   "outputs": [
    {
     "data": {
      "text/plain": [
       "0.9764959041723696"
      ]
     },
     "execution_count": 23,
     "metadata": {},
     "output_type": "execute_result"
    }
   ],
   "source": [
    "rf.score(x_train, y_train)"
   ]
  },
  {
   "cell_type": "code",
   "execution_count": 24,
   "id": "27eaa462",
   "metadata": {},
   "outputs": [
    {
     "data": {
      "text/plain": [
       "0.8922038990165907"
      ]
     },
     "execution_count": 24,
     "metadata": {},
     "output_type": "execute_result"
    }
   ],
   "source": [
    "rf.score(x_test, y_test)"
   ]
  },
  {
   "cell_type": "code",
   "execution_count": null,
   "id": "0d35a1cc",
   "metadata": {},
   "outputs": [],
   "source": []
  }
 ],
 "metadata": {
  "kernelspec": {
   "display_name": "Python 3 (ipykernel)",
   "language": "python",
   "name": "python3"
  },
  "language_info": {
   "codemirror_mode": {
    "name": "ipython",
    "version": 3
   },
   "file_extension": ".py",
   "mimetype": "text/x-python",
   "name": "python",
   "nbconvert_exporter": "python",
   "pygments_lexer": "ipython3",
   "version": "3.9.12"
  }
 },
 "nbformat": 4,
 "nbformat_minor": 5
}

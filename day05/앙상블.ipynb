{
 "cells": [
  {
   "cell_type": "markdown",
   "id": "4cde142a",
   "metadata": {},
   "source": [
    "### 1. 목표 - 아들의 키를 예측해보자"
   ]
  },
  {
   "cell_type": "code",
   "execution_count": 2,
   "id": "4eb0cfe7",
   "metadata": {},
   "outputs": [],
   "source": [
    "import pandas as pd\n",
    "from sklearn.linear_model import LinearRegression\n",
    "from sklearn.neighbors import KNeighborsRegressor\n",
    "from sklearn.tree import DecisionTreeRegressor\n",
    "from sklearn.metrics import r2_score\n",
    "import numpy as np"
   ]
  },
  {
   "cell_type": "markdown",
   "id": "5d49dbad",
   "metadata": {},
   "source": [
    "### 2. 데이터 불러오기"
   ]
  },
  {
   "cell_type": "code",
   "execution_count": 4,
   "id": "2c0b44bc",
   "metadata": {},
   "outputs": [],
   "source": [
    "train = pd.read_excel('아버지아들키.xlsx', sheet_name='train')\n",
    "test = pd.read_excel('아버지아들키.xlsx', sheet_name='test')"
   ]
  },
  {
   "cell_type": "code",
   "execution_count": 5,
   "id": "7ae42523",
   "metadata": {},
   "outputs": [
    {
     "data": {
      "text/html": [
       "<div>\n",
       "<style scoped>\n",
       "    .dataframe tbody tr th:only-of-type {\n",
       "        vertical-align: middle;\n",
       "    }\n",
       "\n",
       "    .dataframe tbody tr th {\n",
       "        vertical-align: top;\n",
       "    }\n",
       "\n",
       "    .dataframe thead th {\n",
       "        text-align: right;\n",
       "    }\n",
       "</style>\n",
       "<table border=\"1\" class=\"dataframe\">\n",
       "  <thead>\n",
       "    <tr style=\"text-align: right;\">\n",
       "      <th></th>\n",
       "      <th>Father</th>\n",
       "      <th>Son</th>\n",
       "    </tr>\n",
       "  </thead>\n",
       "  <tbody>\n",
       "    <tr>\n",
       "      <th>0</th>\n",
       "      <td>165.100</td>\n",
       "      <td>151.892</td>\n",
       "    </tr>\n",
       "    <tr>\n",
       "      <th>1</th>\n",
       "      <td>165.100</td>\n",
       "      <td>160.782</td>\n",
       "    </tr>\n",
       "    <tr>\n",
       "      <th>2</th>\n",
       "      <td>167.132</td>\n",
       "      <td>159.512</td>\n",
       "    </tr>\n",
       "    <tr>\n",
       "      <th>3</th>\n",
       "      <td>155.194</td>\n",
       "      <td>163.322</td>\n",
       "    </tr>\n",
       "    <tr>\n",
       "      <th>4</th>\n",
       "      <td>160.020</td>\n",
       "      <td>163.068</td>\n",
       "    </tr>\n",
       "    <tr>\n",
       "      <th>...</th>\n",
       "      <td>...</td>\n",
       "      <td>...</td>\n",
       "    </tr>\n",
       "    <tr>\n",
       "      <th>750</th>\n",
       "      <td>186.182</td>\n",
       "      <td>172.466</td>\n",
       "    </tr>\n",
       "    <tr>\n",
       "      <th>751</th>\n",
       "      <td>167.132</td>\n",
       "      <td>154.940</td>\n",
       "    </tr>\n",
       "    <tr>\n",
       "      <th>752</th>\n",
       "      <td>181.102</td>\n",
       "      <td>173.482</td>\n",
       "    </tr>\n",
       "    <tr>\n",
       "      <th>753</th>\n",
       "      <td>179.578</td>\n",
       "      <td>176.022</td>\n",
       "    </tr>\n",
       "    <tr>\n",
       "      <th>754</th>\n",
       "      <td>178.562</td>\n",
       "      <td>170.180</td>\n",
       "    </tr>\n",
       "  </tbody>\n",
       "</table>\n",
       "<p>755 rows × 2 columns</p>\n",
       "</div>"
      ],
      "text/plain": [
       "      Father      Son\n",
       "0    165.100  151.892\n",
       "1    165.100  160.782\n",
       "2    167.132  159.512\n",
       "3    155.194  163.322\n",
       "4    160.020  163.068\n",
       "..       ...      ...\n",
       "750  186.182  172.466\n",
       "751  167.132  154.940\n",
       "752  181.102  173.482\n",
       "753  179.578  176.022\n",
       "754  178.562  170.180\n",
       "\n",
       "[755 rows x 2 columns]"
      ]
     },
     "execution_count": 5,
     "metadata": {},
     "output_type": "execute_result"
    }
   ],
   "source": [
    "train"
   ]
  },
  {
   "cell_type": "code",
   "execution_count": 6,
   "id": "3f54d0b6",
   "metadata": {},
   "outputs": [
    {
     "data": {
      "text/html": [
       "<div>\n",
       "<style scoped>\n",
       "    .dataframe tbody tr th:only-of-type {\n",
       "        vertical-align: middle;\n",
       "    }\n",
       "\n",
       "    .dataframe tbody tr th {\n",
       "        vertical-align: top;\n",
       "    }\n",
       "\n",
       "    .dataframe thead th {\n",
       "        text-align: right;\n",
       "    }\n",
       "</style>\n",
       "<table border=\"1\" class=\"dataframe\">\n",
       "  <thead>\n",
       "    <tr style=\"text-align: right;\">\n",
       "      <th></th>\n",
       "      <th>Father</th>\n",
       "      <th>Son</th>\n",
       "    </tr>\n",
       "  </thead>\n",
       "  <tbody>\n",
       "    <tr>\n",
       "      <th>0</th>\n",
       "      <td>160.782</td>\n",
       "      <td>160.528</td>\n",
       "    </tr>\n",
       "    <tr>\n",
       "      <th>1</th>\n",
       "      <td>166.116</td>\n",
       "      <td>162.814</td>\n",
       "    </tr>\n",
       "    <tr>\n",
       "      <th>2</th>\n",
       "      <td>165.608</td>\n",
       "      <td>164.592</td>\n",
       "    </tr>\n",
       "    <tr>\n",
       "      <th>3</th>\n",
       "      <td>169.672</td>\n",
       "      <td>166.370</td>\n",
       "    </tr>\n",
       "    <tr>\n",
       "      <th>4</th>\n",
       "      <td>176.530</td>\n",
       "      <td>166.370</td>\n",
       "    </tr>\n",
       "    <tr>\n",
       "      <th>...</th>\n",
       "      <td>...</td>\n",
       "      <td>...</td>\n",
       "    </tr>\n",
       "    <tr>\n",
       "      <th>318</th>\n",
       "      <td>183.388</td>\n",
       "      <td>169.418</td>\n",
       "    </tr>\n",
       "    <tr>\n",
       "      <th>319</th>\n",
       "      <td>160.528</td>\n",
       "      <td>149.352</td>\n",
       "    </tr>\n",
       "    <tr>\n",
       "      <th>320</th>\n",
       "      <td>171.958</td>\n",
       "      <td>151.892</td>\n",
       "    </tr>\n",
       "    <tr>\n",
       "      <th>321</th>\n",
       "      <td>170.180</td>\n",
       "      <td>179.832</td>\n",
       "    </tr>\n",
       "    <tr>\n",
       "      <th>322</th>\n",
       "      <td>182.372</td>\n",
       "      <td>176.022</td>\n",
       "    </tr>\n",
       "  </tbody>\n",
       "</table>\n",
       "<p>323 rows × 2 columns</p>\n",
       "</div>"
      ],
      "text/plain": [
       "      Father      Son\n",
       "0    160.782  160.528\n",
       "1    166.116  162.814\n",
       "2    165.608  164.592\n",
       "3    169.672  166.370\n",
       "4    176.530  166.370\n",
       "..       ...      ...\n",
       "318  183.388  169.418\n",
       "319  160.528  149.352\n",
       "320  171.958  151.892\n",
       "321  170.180  179.832\n",
       "322  182.372  176.022\n",
       "\n",
       "[323 rows x 2 columns]"
      ]
     },
     "execution_count": 6,
     "metadata": {},
     "output_type": "execute_result"
    }
   ],
   "source": [
    "test"
   ]
  },
  {
   "cell_type": "code",
   "execution_count": 7,
   "id": "10097da1",
   "metadata": {},
   "outputs": [
    {
     "name": "stdout",
     "output_type": "stream",
     "text": [
      "<class 'pandas.core.frame.DataFrame'>\n",
      "RangeIndex: 755 entries, 0 to 754\n",
      "Data columns (total 2 columns):\n",
      " #   Column  Non-Null Count  Dtype  \n",
      "---  ------  --------------  -----  \n",
      " 0   Father  755 non-null    float64\n",
      " 1   Son     755 non-null    float64\n",
      "dtypes: float64(2)\n",
      "memory usage: 11.9 KB\n"
     ]
    }
   ],
   "source": [
    "train.info() #755개의 행"
   ]
  },
  {
   "cell_type": "code",
   "execution_count": 8,
   "id": "cdb16871",
   "metadata": {},
   "outputs": [
    {
     "name": "stdout",
     "output_type": "stream",
     "text": [
      "<class 'pandas.core.frame.DataFrame'>\n",
      "RangeIndex: 323 entries, 0 to 322\n",
      "Data columns (total 2 columns):\n",
      " #   Column  Non-Null Count  Dtype  \n",
      "---  ------  --------------  -----  \n",
      " 0   Father  323 non-null    float64\n",
      " 1   Son     323 non-null    float64\n",
      "dtypes: float64(2)\n",
      "memory usage: 5.2 KB\n"
     ]
    }
   ],
   "source": [
    "test.info() #323개의 데이터"
   ]
  },
  {
   "cell_type": "code",
   "execution_count": 9,
   "id": "b2a8083a",
   "metadata": {},
   "outputs": [],
   "source": [
    "x_train = train.drop(['Son'], axis=1)\n",
    "x_test = test.drop(['Son'],axis=1)\n",
    "y_train = train['Son']\n",
    "y_test = test['Son']"
   ]
  },
  {
   "cell_type": "markdown",
   "id": "f188ee8d",
   "metadata": {},
   "source": [
    "### 4. 탐색적 분석"
   ]
  },
  {
   "cell_type": "markdown",
   "id": "8f5ae780",
   "metadata": {},
   "source": [
    "### 5. 모델생성"
   ]
  },
  {
   "cell_type": "code",
   "execution_count": 11,
   "id": "5d9c93cd",
   "metadata": {},
   "outputs": [],
   "source": [
    "model1 = LinearRegression()\n",
    "model2 = KNeighborsRegressor()\n",
    "model3 = DecisionTreeRegressor()"
   ]
  },
  {
   "cell_type": "markdown",
   "id": "0c9d6b09",
   "metadata": {},
   "source": [
    "### 6. 모델학습"
   ]
  },
  {
   "cell_type": "code",
   "execution_count": 12,
   "id": "2ff96ce7",
   "metadata": {},
   "outputs": [
    {
     "data": {
      "text/plain": [
       "DecisionTreeRegressor()"
      ]
     },
     "execution_count": 12,
     "metadata": {},
     "output_type": "execute_result"
    }
   ],
   "source": [
    "model1.fit(x_train, y_train)\n",
    "model2.fit(x_train, y_train)\n",
    "model3.fit(x_train, y_train)"
   ]
  },
  {
   "cell_type": "markdown",
   "id": "a9c0371a",
   "metadata": {},
   "source": [
    "### 7. 모델평가"
   ]
  },
  {
   "cell_type": "code",
   "execution_count": 13,
   "id": "9f22deea",
   "metadata": {},
   "outputs": [],
   "source": [
    "y_predict1 = model1.predict(x_test)\n",
    "y_predict2 = model2.predict(x_test)\n",
    "y_predict3 = model3.predict(x_test)"
   ]
  },
  {
   "cell_type": "code",
   "execution_count": 14,
   "id": "40600be8",
   "metadata": {},
   "outputs": [],
   "source": [
    "y_predict = (y_predict1 + y_predict2 + y_predict3) / 3 #평균"
   ]
  },
  {
   "cell_type": "code",
   "execution_count": 15,
   "id": "8554b8d7",
   "metadata": {},
   "outputs": [
    {
     "data": {
      "text/plain": [
       "array([171.01685659, 172.26237926, 168.35797733, 173.62081314,\n",
       "       175.8340038 , 170.29029133, 170.43000977, 175.40294072,\n",
       "       177.73302744, 168.21745028, 171.08239094, 170.21330525,\n",
       "       172.26237926, 175.084046  , 170.02476841, 170.02476841,\n",
       "       172.67921308, 178.59385394, 174.69019928, 173.0855337 ,\n",
       "       173.25257426, 172.88596339, 174.74762102, 175.084046  ,\n",
       "       177.91063803, 177.6904508 , 177.73876567, 180.16409721,\n",
       "       180.64520083, 172.38873979, 170.40706353, 172.42545121,\n",
       "       169.5821988 , 172.67921308, 175.0848116 , 175.93803503,\n",
       "       176.36481971, 177.73876567, 183.10980535, 173.92713409,\n",
       "       173.90177916, 176.68581612, 177.70565846, 177.73876567,\n",
       "       183.07357019, 185.31730446, 170.43000977, 172.90623733,\n",
       "       175.68939039, 180.16409721, 181.06955428, 172.88486684,\n",
       "       173.21519308, 175.084046  , 174.90837951, 177.70565846,\n",
       "       181.52955397, 175.40294072, 180.68907561, 177.70565846,\n",
       "       175.8340038 , 174.68917711, 168.39446829, 171.515653  ,\n",
       "       168.39446829, 172.59013768, 170.43000977, 170.05026213,\n",
       "       175.40294072, 180.16409721, 168.21745028, 168.17435749,\n",
       "       172.26237926, 175.084046  , 172.59013768, 169.5821988 ,\n",
       "       170.40706353, 173.21519308, 173.21519308, 172.88486684,\n",
       "       177.73302744, 176.82152091, 176.66658189, 169.5618707 ,\n",
       "       172.38873979, 171.515653  , 174.24736286, 174.74762102,\n",
       "       172.90623733, 176.82152091, 178.09099959, 182.60527071,\n",
       "       171.08239094, 170.02476841, 173.62081314, 174.24736286,\n",
       "       177.33466657, 175.86891312, 176.34354341, 172.94269986,\n",
       "       173.12545611, 174.90837951, 177.71914045, 179.41312544,\n",
       "       180.03325487, 178.31606298, 170.21330525, 172.12245331,\n",
       "       178.53710194, 172.88596339, 173.50847016, 177.91063803,\n",
       "       177.6904508 , 179.63171733, 174.69019928, 177.6904508 ,\n",
       "       179.34845245, 176.34354341, 177.91063803, 175.68939039,\n",
       "       182.32236029, 173.90177916, 176.34354341, 180.16409721,\n",
       "       176.85577371, 169.66907008, 168.35797733, 174.24736286,\n",
       "       160.37727188, 168.35797733, 171.75541156, 170.05026213,\n",
       "       172.67921308, 166.62955928, 169.5618707 , 167.10873047,\n",
       "       172.38873979, 172.42545121, 172.59013768, 170.09592236,\n",
       "       172.38873979, 169.5821988 , 173.92713409, 171.20653441,\n",
       "       172.88486684, 172.88486684, 177.91063803, 168.44911063,\n",
       "       170.5550548 , 172.94269986, 176.36481971, 176.68581612,\n",
       "       181.52955397, 172.67921308, 172.88486684, 173.06663951,\n",
       "       178.59385394, 177.6904508 , 177.9472313 , 176.68581612,\n",
       "       174.5260792 , 168.35797733, 173.12545611, 173.06663951,\n",
       "       175.40294072, 177.33466657, 176.68581612, 181.67118641,\n",
       "       171.09731246, 171.515653  , 170.02476841, 172.88486684,\n",
       "       175.40294072, 175.0848116 , 174.24736286, 177.73302744,\n",
       "       176.82152091, 175.8340038 , 182.60527071, 178.59385394,\n",
       "       175.93803503, 179.34845245, 179.41312544, 181.1613843 ,\n",
       "       174.68917711, 172.90623733, 177.6904508 , 180.16409721,\n",
       "       181.1613843 , 179.81855039, 163.86786197, 171.515653  ,\n",
       "       168.21745028, 168.02710314, 172.26237926, 170.5550548 ,\n",
       "       172.94269986, 168.38393885, 170.5550548 , 172.38873979,\n",
       "       172.3961007 , 173.21519308, 171.08239094, 173.92713409,\n",
       "       173.92713409, 172.88486684, 174.68917711, 173.50847016,\n",
       "       175.8340038 , 172.59013768, 170.05026213, 173.92713409,\n",
       "       171.20653441, 178.53710194, 172.88596339, 173.90177916,\n",
       "       172.90623733, 175.93803503, 176.82152091, 177.6904508 ,\n",
       "       177.70565846, 176.66658189, 171.01685659, 173.0855337 ,\n",
       "       174.69019928, 173.50847016, 174.74762102, 176.82152091,\n",
       "       174.90837951, 175.86891312, 181.1613843 , 171.515653  ,\n",
       "       172.42545121, 169.5821988 , 174.24736286, 178.59385394,\n",
       "       173.90177916, 175.93803503, 177.71914045, 180.16409721,\n",
       "       177.71914045, 182.60527071, 173.25257426, 174.74762102,\n",
       "       173.50847016, 172.90623733, 176.68581612, 180.71519   ,\n",
       "       182.60527071, 175.93803503, 176.68581612, 179.41312544,\n",
       "       174.5260792 , 177.71914045, 174.69019928, 177.70565846,\n",
       "       182.82881885, 172.12245331, 180.03325487, 173.90177916,\n",
       "       170.99970766, 177.73876567, 164.37434306, 170.09592236,\n",
       "       170.5550548 , 171.96182478, 172.12245331, 173.12545611,\n",
       "       180.26799811, 172.77232388, 170.29029133, 178.53710194,\n",
       "       177.73302744, 173.12545611, 178.53710194, 176.36481971,\n",
       "       177.9472313 , 177.71914045, 171.09731246, 170.29029133,\n",
       "       170.02476841, 173.62081314, 173.06663951, 174.74762102,\n",
       "       174.74762102, 175.0848116 , 175.93803503, 177.73302744,\n",
       "       177.71914045, 176.34354341, 181.67118641, 168.17435749,\n",
       "       173.92713409, 174.24736286, 176.82152091, 172.90623733,\n",
       "       178.09099959, 177.71914045, 182.82881885, 170.99970766,\n",
       "       173.92713409, 173.25257426, 173.0855337 , 172.88596339,\n",
       "       176.36481971, 177.91063803, 177.71914045, 177.33466657,\n",
       "       166.36099445, 173.90177916, 177.33466657, 175.86891312,\n",
       "       174.68917711, 176.68581612, 180.26799811, 173.06663951,\n",
       "       180.3353039 , 172.77232388, 178.35071163, 169.5618707 ,\n",
       "       172.88596339, 171.20653441, 174.5260792 ])"
      ]
     },
     "execution_count": 15,
     "metadata": {},
     "output_type": "execute_result"
    }
   ],
   "source": [
    "y_predict"
   ]
  },
  {
   "cell_type": "code",
   "execution_count": 16,
   "id": "775ca291",
   "metadata": {},
   "outputs": [
    {
     "data": {
      "text/plain": [
       "0.18036000879193148"
      ]
     },
     "execution_count": 16,
     "metadata": {},
     "output_type": "execute_result"
    }
   ],
   "source": [
    "r2_score(y_test, y_predict)"
   ]
  },
  {
   "cell_type": "markdown",
   "id": "5488372b",
   "metadata": {},
   "source": [
    "#### 새로운 데이터 입력 -> 예측값"
   ]
  },
  {
   "cell_type": "code",
   "execution_count": 17,
   "id": "3699fd2d",
   "metadata": {},
   "outputs": [
    {
     "name": "stderr",
     "output_type": "stream",
     "text": [
      "C:\\Users\\user\\anaconda3\\lib\\site-packages\\sklearn\\base.py:450: UserWarning: X does not have valid feature names, but LinearRegression was fitted with feature names\n",
      "  warnings.warn(\n",
      "C:\\Users\\user\\anaconda3\\lib\\site-packages\\sklearn\\base.py:450: UserWarning: X does not have valid feature names, but KNeighborsRegressor was fitted with feature names\n",
      "  warnings.warn(\n",
      "C:\\Users\\user\\anaconda3\\lib\\site-packages\\sklearn\\base.py:450: UserWarning: X does not have valid feature names, but DecisionTreeRegressor was fitted with feature names\n",
      "  warnings.warn(\n"
     ]
    }
   ],
   "source": [
    "x_test = np.array([[164.3]])\n",
    "\n",
    "y_predict1 = model1.predict(x_test)\n",
    "y_predict2 = model2.predict(x_test)\n",
    "y_predict3 = model3.predict(x_test)"
   ]
  },
  {
   "cell_type": "code",
   "execution_count": 18,
   "id": "c1af4266",
   "metadata": {},
   "outputs": [],
   "source": [
    "y_predict = (y_predict1 + y_predict2 + y_predict3) / 3"
   ]
  },
  {
   "cell_type": "code",
   "execution_count": 19,
   "id": "25662a8f",
   "metadata": {},
   "outputs": [
    {
     "data": {
      "text/plain": [
       "array([170.28372739])"
      ]
     },
     "execution_count": 19,
     "metadata": {},
     "output_type": "execute_result"
    }
   ],
   "source": [
    "y_predict"
   ]
  },
  {
   "cell_type": "code",
   "execution_count": null,
   "id": "c008f1a0",
   "metadata": {},
   "outputs": [],
   "source": []
  }
 ],
 "metadata": {
  "kernelspec": {
   "display_name": "Python 3 (ipykernel)",
   "language": "python",
   "name": "python3"
  },
  "language_info": {
   "codemirror_mode": {
    "name": "ipython",
    "version": 3
   },
   "file_extension": ".py",
   "mimetype": "text/x-python",
   "name": "python",
   "nbconvert_exporter": "python",
   "pygments_lexer": "ipython3",
   "version": "3.9.12"
  }
 },
 "nbformat": 4,
 "nbformat_minor": 5
}
